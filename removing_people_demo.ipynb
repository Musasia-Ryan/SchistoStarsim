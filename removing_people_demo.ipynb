{
 "cells": [
  {
   "cell_type": "code",
   "execution_count": 1,
   "id": "55881074",
   "metadata": {
    "ExecuteTime": {
     "end_time": "2023-08-21T13:11:51.346708Z",
     "start_time": "2023-08-21T13:11:51.271033Z"
    }
   },
   "outputs": [],
   "source": [
    "%load_ext autoreload\n",
    "%autoreload 2"
   ]
  },
  {
   "cell_type": "code",
   "execution_count": 2,
   "id": "e0e9c76d",
   "metadata": {
    "ExecuteTime": {
     "end_time": "2023-08-21T13:11:52.194199Z",
     "start_time": "2023-08-21T13:11:51.347710Z"
    }
   },
   "outputs": [],
   "source": [
    "from removing_people import *"
   ]
  },
  {
   "cell_type": "markdown",
   "id": "c2a30b2c",
   "metadata": {},
   "source": [
    "# Removing people concept"
   ]
  },
  {
   "cell_type": "code",
   "execution_count": 3,
   "id": "4f9a9f0a",
   "metadata": {
    "ExecuteTime": {
     "end_time": "2023-08-21T13:11:52.272215Z",
     "start_time": "2023-08-21T13:11:52.195200Z"
    }
   },
   "outputs": [],
   "source": [
    "x = State('foo', int, 0)\n",
    "y = State('imm', float, 0, shape=2)\n",
    "z = State('bar', int, lambda n: np.random.randint(1,4,n))\n",
    "\n",
    "p = DynamicPeople(states=[x,y,z])\n",
    "p.initialize(3)\n"
   ]
  },
  {
   "cell_type": "code",
   "execution_count": 4,
   "id": "84448832",
   "metadata": {
    "ExecuteTime": {
     "end_time": "2023-08-21T13:11:52.349483Z",
     "start_time": "2023-08-21T13:11:52.273216Z"
    }
   },
   "outputs": [
    {
     "data": {
      "text/plain": [
       "     Quantity\n",
       "UID          \n",
       "0           0\n",
       "1           0\n",
       "2           0"
      ]
     },
     "execution_count": 4,
     "metadata": {},
     "output_type": "execute_result"
    }
   ],
   "source": [
    "x"
   ]
  },
  {
   "cell_type": "code",
   "execution_count": 5,
   "id": "65644418",
   "metadata": {
    "ExecuteTime": {
     "end_time": "2023-08-21T13:11:52.426954Z",
     "start_time": "2023-08-21T13:11:52.351582Z"
    }
   },
   "outputs": [
    {
     "data": {
      "text/plain": [
       "UID         0    1    2\n",
       "Quantity               \n",
       "0         0.0  0.0  0.0\n",
       "1         0.0  0.0  0.0"
      ]
     },
     "execution_count": 5,
     "metadata": {},
     "output_type": "execute_result"
    }
   ],
   "source": [
    "y"
   ]
  },
  {
   "cell_type": "code",
   "execution_count": 6,
   "id": "9a8b20a7",
   "metadata": {
    "ExecuteTime": {
     "end_time": "2023-08-21T13:11:52.506459Z",
     "start_time": "2023-08-21T13:11:52.427956Z"
    },
    "scrolled": true
   },
   "outputs": [
    {
     "data": {
      "text/plain": [
       "     Quantity\n",
       "UID          \n",
       "0           2\n",
       "1           3\n",
       "2           3"
      ]
     },
     "execution_count": 6,
     "metadata": {},
     "output_type": "execute_result"
    }
   ],
   "source": [
    "z"
   ]
  },
  {
   "cell_type": "code",
   "execution_count": 7,
   "id": "792d35ae",
   "metadata": {
    "ExecuteTime": {
     "end_time": "2023-08-21T13:11:52.583718Z",
     "start_time": "2023-08-21T13:11:52.507460Z"
    }
   },
   "outputs": [],
   "source": [
    "p.grow(3)"
   ]
  },
  {
   "cell_type": "code",
   "execution_count": 8,
   "id": "9590e8a4",
   "metadata": {
    "ExecuteTime": {
     "end_time": "2023-08-21T13:11:52.661718Z",
     "start_time": "2023-08-21T13:11:52.584720Z"
    }
   },
   "outputs": [
    {
     "data": {
      "text/plain": [
       "     Quantity\n",
       "UID          \n",
       "0           0\n",
       "1           0\n",
       "2           0\n",
       "3           0\n",
       "4           0\n",
       "5           0"
      ]
     },
     "execution_count": 8,
     "metadata": {},
     "output_type": "execute_result"
    }
   ],
   "source": [
    "x"
   ]
  },
  {
   "cell_type": "code",
   "execution_count": 9,
   "id": "b1c11b85",
   "metadata": {
    "ExecuteTime": {
     "end_time": "2023-08-21T13:11:52.740524Z",
     "start_time": "2023-08-21T13:11:52.662718Z"
    }
   },
   "outputs": [
    {
     "data": {
      "text/plain": [
       "UID         0    1    2    3    4    5\n",
       "Quantity                              \n",
       "0         0.0  0.0  0.0  0.0  0.0  0.0\n",
       "1         0.0  0.0  0.0  0.0  0.0  0.0"
      ]
     },
     "execution_count": 9,
     "metadata": {},
     "output_type": "execute_result"
    }
   ],
   "source": [
    "y"
   ]
  },
  {
   "cell_type": "markdown",
   "id": "77660fc3",
   "metadata": {},
   "source": [
    "## Some indexing operations"
   ]
  },
  {
   "cell_type": "markdown",
   "id": "b2a18678",
   "metadata": {
    "ExecuteTime": {
     "end_time": "2023-08-21T12:48:48.605111Z",
     "start_time": "2023-08-21T12:48:48.511523Z"
    }
   },
   "source": [
    "Different kinds of indexing\n",
    "\n",
    "- Single index\n",
    "- List/array of indices\n",
    "- Boolean array\n",
    "- Slices"
   ]
  },
  {
   "cell_type": "code",
   "execution_count": 10,
   "id": "5ee0ec7f",
   "metadata": {
    "ExecuteTime": {
     "end_time": "2023-08-21T13:11:52.818354Z",
     "start_time": "2023-08-21T13:11:52.741528Z"
    }
   },
   "outputs": [
    {
     "data": {
      "text/plain": [
       "     Quantity\n",
       "UID          \n",
       "0           0\n",
       "1           0\n",
       "2          10\n",
       "3          20\n",
       "4           0\n",
       "5           0"
      ]
     },
     "execution_count": 10,
     "metadata": {},
     "output_type": "execute_result"
    }
   ],
   "source": [
    "x[2] = 10\n",
    "x[3] = 20\n",
    "x"
   ]
  },
  {
   "cell_type": "code",
   "execution_count": 11,
   "id": "d057c2c9",
   "metadata": {
    "ExecuteTime": {
     "end_time": "2023-08-21T13:11:52.896472Z",
     "start_time": "2023-08-21T13:11:52.819355Z"
    }
   },
   "outputs": [
    {
     "data": {
      "text/plain": [
       "     Quantity\n",
       "UID          \n",
       "0       False\n",
       "1       False\n",
       "2        True\n",
       "3        True\n",
       "4       False\n",
       "5       False"
      ]
     },
     "execution_count": 11,
     "metadata": {},
     "output_type": "execute_result"
    }
   ],
   "source": [
    "x>0"
   ]
  },
  {
   "cell_type": "code",
   "execution_count": 12,
   "id": "f8b0bc6e",
   "metadata": {
    "ExecuteTime": {
     "end_time": "2023-08-21T13:11:52.976024Z",
     "start_time": "2023-08-21T13:11:52.898474Z"
    }
   },
   "outputs": [
    {
     "data": {
      "text/plain": [
       "     Quantity\n",
       "UID          \n",
       "2          10\n",
       "3          20"
      ]
     },
     "execution_count": 12,
     "metadata": {},
     "output_type": "execute_result"
    }
   ],
   "source": [
    "x[x>0]"
   ]
  },
  {
   "cell_type": "code",
   "execution_count": null,
   "id": "feaacc14",
   "metadata": {},
   "outputs": [],
   "source": []
  },
  {
   "cell_type": "code",
   "execution_count": 13,
   "id": "1b6520d3",
   "metadata": {
    "ExecuteTime": {
     "end_time": "2023-08-21T13:11:53.054543Z",
     "start_time": "2023-08-21T13:11:52.977026Z"
    }
   },
   "outputs": [
    {
     "data": {
      "text/plain": [
       "UID         0    1     2     3    4    5\n",
       "Quantity                                \n",
       "0         0.0  0.0  15.0  25.0  5.0  0.0\n",
       "1         0.0  7.0  15.0  25.0  0.0  7.0"
      ]
     },
     "execution_count": 13,
     "metadata": {},
     "output_type": "execute_result"
    }
   ],
   "source": [
    "y[[0,1],2] = 15\n",
    "y[:,3] = 25\n",
    "y[0,4] = 5\n",
    "y[1,[1,5]] = 7\n",
    "y"
   ]
  },
  {
   "cell_type": "code",
   "execution_count": 14,
   "id": "e81d119f",
   "metadata": {
    "ExecuteTime": {
     "end_time": "2023-08-21T13:11:53.132927Z",
     "start_time": "2023-08-21T13:11:53.058547Z"
    }
   },
   "outputs": [
    {
     "data": {
      "text/plain": [
       "     Quantity\n",
       "UID          \n",
       "0           2\n",
       "1           3\n",
       "2           3\n",
       "3           2\n",
       "4           2\n",
       "5           1"
      ]
     },
     "execution_count": 14,
     "metadata": {},
     "output_type": "execute_result"
    }
   ],
   "source": [
    "z"
   ]
  },
  {
   "cell_type": "code",
   "execution_count": 15,
   "id": "bd8d5f08",
   "metadata": {
    "ExecuteTime": {
     "end_time": "2023-08-21T13:11:53.210871Z",
     "start_time": "2023-08-21T13:11:53.133929Z"
    }
   },
   "outputs": [],
   "source": [
    "z+= 1"
   ]
  },
  {
   "cell_type": "code",
   "execution_count": 16,
   "id": "6e12f682",
   "metadata": {
    "ExecuteTime": {
     "end_time": "2023-08-21T13:11:53.304927Z",
     "start_time": "2023-08-21T13:11:53.211917Z"
    }
   },
   "outputs": [
    {
     "data": {
      "text/plain": [
       "     Quantity\n",
       "UID          \n",
       "0           3\n",
       "1           4\n",
       "2           4\n",
       "3           3\n",
       "4           3\n",
       "5           2"
      ]
     },
     "execution_count": 16,
     "metadata": {},
     "output_type": "execute_result"
    }
   ],
   "source": [
    "z"
   ]
  },
  {
   "cell_type": "code",
   "execution_count": 17,
   "id": "33ed3321",
   "metadata": {
    "ExecuteTime": {
     "end_time": "2023-08-21T13:11:53.383635Z",
     "start_time": "2023-08-21T13:11:53.305929Z"
    }
   },
   "outputs": [
    {
     "data": {
      "text/plain": [
       "3.1666666666666665"
      ]
     },
     "execution_count": 17,
     "metadata": {},
     "output_type": "execute_result"
    }
   ],
   "source": [
    "np.mean(z)"
   ]
  },
  {
   "cell_type": "markdown",
   "id": "ecd921e9",
   "metadata": {},
   "source": [
    "## Removing people"
   ]
  },
  {
   "cell_type": "code",
   "execution_count": 18,
   "id": "f7f43b09",
   "metadata": {
    "ExecuteTime": {
     "end_time": "2023-08-21T13:11:53.461708Z",
     "start_time": "2023-08-21T13:11:53.384636Z"
    }
   },
   "outputs": [
    {
     "data": {
      "text/plain": [
       "     Quantity\n",
       "UID          \n",
       "0           0\n",
       "1           0\n",
       "2          10\n",
       "3          20\n",
       "4           0\n",
       "5           0"
      ]
     },
     "execution_count": 18,
     "metadata": {},
     "output_type": "execute_result"
    }
   ],
   "source": [
    "x"
   ]
  },
  {
   "cell_type": "code",
   "execution_count": 19,
   "id": "e57cd75a",
   "metadata": {
    "ExecuteTime": {
     "end_time": "2023-08-21T13:11:53.540930Z",
     "start_time": "2023-08-21T13:11:53.462709Z"
    }
   },
   "outputs": [],
   "source": [
    "p.remove([0,1])"
   ]
  },
  {
   "cell_type": "code",
   "execution_count": 20,
   "id": "14e7e32a",
   "metadata": {
    "ExecuteTime": {
     "end_time": "2023-08-21T13:11:53.619507Z",
     "start_time": "2023-08-21T13:11:53.541932Z"
    }
   },
   "outputs": [
    {
     "data": {
      "text/plain": [
       "     Quantity\n",
       "UID          \n",
       "2          10\n",
       "3          20\n",
       "4           0\n",
       "5           0"
      ]
     },
     "execution_count": 20,
     "metadata": {},
     "output_type": "execute_result"
    }
   ],
   "source": [
    "x"
   ]
  },
  {
   "cell_type": "code",
   "execution_count": 21,
   "id": "570d1fba",
   "metadata": {
    "ExecuteTime": {
     "end_time": "2023-08-21T13:11:53.696762Z",
     "start_time": "2023-08-21T13:11:53.620510Z"
    }
   },
   "outputs": [],
   "source": [
    "p.remove(2)"
   ]
  },
  {
   "cell_type": "code",
   "execution_count": 22,
   "id": "ae5addd5",
   "metadata": {
    "ExecuteTime": {
     "end_time": "2023-08-21T13:11:53.775535Z",
     "start_time": "2023-08-21T13:11:53.697763Z"
    }
   },
   "outputs": [
    {
     "data": {
      "text/plain": [
       "     Quantity\n",
       "UID          \n",
       "3          20\n",
       "4           0\n",
       "5           0"
      ]
     },
     "execution_count": 22,
     "metadata": {},
     "output_type": "execute_result"
    }
   ],
   "source": [
    "x"
   ]
  },
  {
   "cell_type": "code",
   "execution_count": 23,
   "id": "512eace9",
   "metadata": {
    "ExecuteTime": {
     "end_time": "2023-08-21T13:11:53.853322Z",
     "start_time": "2023-08-21T13:11:53.776535Z"
    }
   },
   "outputs": [
    {
     "data": {
      "text/plain": [
       "20"
      ]
     },
     "execution_count": 23,
     "metadata": {},
     "output_type": "execute_result"
    }
   ],
   "source": [
    "x[3]"
   ]
  },
  {
   "cell_type": "code",
   "execution_count": 24,
   "id": "9494f8b8",
   "metadata": {
    "ExecuteTime": {
     "end_time": "2023-08-21T13:11:53.933296Z",
     "start_time": "2023-08-21T13:11:53.854322Z"
    }
   },
   "outputs": [
    {
     "data": {
      "text/plain": [
       "UID          3    4    5\n",
       "Quantity                \n",
       "0         25.0  5.0  0.0\n",
       "1         25.0  0.0  7.0"
      ]
     },
     "execution_count": 24,
     "metadata": {},
     "output_type": "execute_result"
    }
   ],
   "source": [
    "y"
   ]
  },
  {
   "cell_type": "code",
   "execution_count": 25,
   "id": "2c028d23",
   "metadata": {
    "ExecuteTime": {
     "end_time": "2023-08-21T13:11:54.012970Z",
     "start_time": "2023-08-21T13:11:53.934298Z"
    }
   },
   "outputs": [
    {
     "data": {
      "text/plain": [
       "UID         4\n",
       "Quantity     \n",
       "0         5.0\n",
       "1         0.0"
      ]
     },
     "execution_count": 25,
     "metadata": {},
     "output_type": "execute_result"
    }
   ],
   "source": [
    "y[:,4]"
   ]
  },
  {
   "cell_type": "code",
   "execution_count": 26,
   "id": "64ce185a",
   "metadata": {
    "ExecuteTime": {
     "end_time": "2023-08-21T13:11:54.091785Z",
     "start_time": "2023-08-21T13:11:54.013971Z"
    }
   },
   "outputs": [
    {
     "data": {
      "text/plain": [
       "array([5., 0.])"
      ]
     },
     "execution_count": 26,
     "metadata": {},
     "output_type": "execute_result"
    }
   ],
   "source": [
    "y.values[:,1]"
   ]
  },
  {
   "cell_type": "code",
   "execution_count": 27,
   "id": "dda56d5b",
   "metadata": {
    "ExecuteTime": {
     "end_time": "2023-08-21T13:11:54.170331Z",
     "start_time": "2023-08-21T13:11:54.092786Z"
    }
   },
   "outputs": [
    {
     "name": "stdout",
     "output_type": "stream",
     "text": [
      "Slicing not supported - slice the .values attribute by index instead e.g., x.values[0:5], not x[0:5]\n"
     ]
    }
   ],
   "source": [
    "try:\n",
    "    x[0:3]\n",
    "except Exception as e:\n",
    "    print(e)"
   ]
  },
  {
   "cell_type": "code",
   "execution_count": 28,
   "id": "2c87eef5",
   "metadata": {
    "ExecuteTime": {
     "end_time": "2023-08-21T13:11:54.248291Z",
     "start_time": "2023-08-21T13:11:54.171468Z"
    }
   },
   "outputs": [
    {
     "data": {
      "text/plain": [
       "array([20,  0,  0])"
      ]
     },
     "execution_count": 28,
     "metadata": {},
     "output_type": "execute_result"
    }
   ],
   "source": [
    "x.values[0:3]"
   ]
  },
  {
   "cell_type": "markdown",
   "id": "c9801103",
   "metadata": {},
   "source": [
    "## cv.true"
   ]
  },
  {
   "cell_type": "markdown",
   "id": "bd118ed3",
   "metadata": {
    "ExecuteTime": {
     "end_time": "2023-08-21T12:46:22.556191Z",
     "start_time": "2023-08-21T12:46:22.401042Z"
    }
   },
   "source": [
    "This example\n",
    "\n",
    "```python\n",
    "filter_inds = people.true('hiv')  # indices fo people with HIV\n",
    "if len(filter_inds):    \n",
    "    art_inds = filter_inds[hpu.true(people.art[filter_inds])]  # Indices of people on ART\n",
    "    not_art_inds = filter_inds[hpu.false(people.art[filter_inds])]\n",
    "    cd4_remaining_inds = hpu.itrue(((people.t - people.date_hiv[not_art_inds]) * dt) < people.dur_hiv[not_art_inds], not_art_inds)  # Indices of people not on ART who have an active infection\n",
    "```\n",
    "\n",
    "illustrates typical usage of the true() function - need to chain indexing i.e., subsequently index `filter_inds` rather than the original `People`."
   ]
  },
  {
   "cell_type": "code",
   "execution_count": 29,
   "id": "aa2e1d7e",
   "metadata": {
    "ExecuteTime": {
     "end_time": "2023-08-21T13:11:54.327670Z",
     "start_time": "2023-08-21T13:11:54.249798Z"
    }
   },
   "outputs": [],
   "source": [
    "p.grow(10)"
   ]
  },
  {
   "cell_type": "code",
   "execution_count": 30,
   "id": "db9919a1",
   "metadata": {
    "ExecuteTime": {
     "end_time": "2023-08-21T13:11:54.406331Z",
     "start_time": "2023-08-21T13:11:54.329173Z"
    }
   },
   "outputs": [
    {
     "data": {
      "text/plain": [
       "     Quantity\n",
       "UID          \n",
       "3           3\n",
       "4           3\n",
       "5           2\n",
       "6           2\n",
       "7           2\n",
       "8           1\n",
       "9           1\n",
       "10          3\n",
       "11          2\n",
       "12          2\n",
       "13          2\n",
       "14          1\n",
       "15          3"
      ]
     },
     "execution_count": 30,
     "metadata": {},
     "output_type": "execute_result"
    }
   ],
   "source": [
    "z"
   ]
  },
  {
   "cell_type": "code",
   "execution_count": 31,
   "id": "6afb43be",
   "metadata": {
    "ExecuteTime": {
     "end_time": "2023-08-21T13:11:54.485255Z",
     "start_time": "2023-08-21T13:11:54.407332Z"
    },
    "scrolled": true
   },
   "outputs": [
    {
     "data": {
      "text/plain": [
       "     Quantity\n",
       "UID          \n",
       "3        True\n",
       "4        True\n",
       "5        True\n",
       "6        True\n",
       "7        True\n",
       "8       False\n",
       "9       False\n",
       "10       True\n",
       "11       True\n",
       "12       True\n",
       "13       True\n",
       "14      False\n",
       "15       True"
      ]
     },
     "execution_count": 31,
     "metadata": {},
     "output_type": "execute_result"
    }
   ],
   "source": [
    "z>1"
   ]
  },
  {
   "cell_type": "code",
   "execution_count": 32,
   "id": "e8d6262b",
   "metadata": {
    "ExecuteTime": {
     "end_time": "2023-08-21T13:11:54.562598Z",
     "start_time": "2023-08-21T13:11:54.486257Z"
    }
   },
   "outputs": [
    {
     "data": {
      "text/plain": [
       "<numpy.flatiter at 0x253ee87eae0>"
      ]
     },
     "execution_count": 32,
     "metadata": {},
     "output_type": "execute_result"
    }
   ],
   "source": [
    "np.nonzero(z).values.flat"
   ]
  },
  {
   "cell_type": "code",
   "execution_count": 33,
   "id": "684a0469",
   "metadata": {
    "ExecuteTime": {
     "end_time": "2023-08-21T13:11:54.640324Z",
     "start_time": "2023-08-21T13:11:54.563599Z"
    }
   },
   "outputs": [],
   "source": [
    "def true(x):\n",
    "    return x._uids[np.nonzero(x)].ravel()"
   ]
  },
  {
   "cell_type": "code",
   "execution_count": 34,
   "id": "7e2f2b72",
   "metadata": {
    "ExecuteTime": {
     "end_time": "2023-08-21T13:11:54.718051Z",
     "start_time": "2023-08-21T13:11:54.641624Z"
    }
   },
   "outputs": [
    {
     "data": {
      "text/plain": [
       "array([ 3,  4,  5,  6,  7, 10, 11, 12, 13, 15])"
      ]
     },
     "execution_count": 34,
     "metadata": {},
     "output_type": "execute_result"
    }
   ],
   "source": [
    "gt_1 = true(z>1)\n",
    "gt_1"
   ]
  },
  {
   "cell_type": "code",
   "execution_count": 35,
   "id": "05cb865f",
   "metadata": {
    "ExecuteTime": {
     "end_time": "2023-08-21T13:11:54.796335Z",
     "start_time": "2023-08-21T13:11:54.718051Z"
    }
   },
   "outputs": [
    {
     "data": {
      "text/plain": [
       "array([ 5,  6,  7, 11, 12, 13])"
      ]
     },
     "execution_count": 35,
     "metadata": {},
     "output_type": "execute_result"
    }
   ],
   "source": [
    "gt_1_lt_3 = true(z[gt_1]<3)\n",
    "gt_1_lt_3"
   ]
  },
  {
   "cell_type": "markdown",
   "id": "d52cfe78",
   "metadata": {
    "ExecuteTime": {
     "end_time": "2023-08-21T12:58:26.196667Z",
     "start_time": "2023-08-21T12:58:26.118093Z"
    }
   },
   "source": [
    "Idea is we would be able to write things like\n",
    "\n",
    "```python\n",
    "hiv_uids = ss.true(hiv)\n",
    "art_uids = ss.true(art[hiv_uids])\n",
    "not_art_uids = ss.false(art[hiv_uids])\n",
    "```"
   ]
  },
  {
   "cell_type": "markdown",
   "id": "171c51a2",
   "metadata": {},
   "source": [
    "## Distributed states"
   ]
  },
  {
   "cell_type": "markdown",
   "id": "9d648207",
   "metadata": {},
   "source": [
    "- Define a state anywhere\n",
    "- Connect it to a people instance at initialization"
   ]
  },
  {
   "cell_type": "code",
   "execution_count": 36,
   "id": "7ab7f4dd",
   "metadata": {
    "ExecuteTime": {
     "end_time": "2023-08-21T13:11:54.875961Z",
     "start_time": "2023-08-21T13:11:54.797335Z"
    }
   },
   "outputs": [],
   "source": [
    "class Intervention():\n",
    "    def __init__(self):\n",
    "        self.vaccinated = State('day_vaccinated',bool)\n",
    "    def initialize(self, people):\n",
    "        # nb. in reality this will take in a Sim and use sim.people\n",
    "        self.vaccinated.initialize(people)\n",
    "        "
   ]
  },
  {
   "cell_type": "code",
   "execution_count": 37,
   "id": "1e0853d0",
   "metadata": {
    "ExecuteTime": {
     "end_time": "2023-08-21T13:11:54.955127Z",
     "start_time": "2023-08-21T13:11:54.876960Z"
    }
   },
   "outputs": [
    {
     "data": {
      "text/plain": [
       "<State day_vaccinated (uninitialized)>"
      ]
     },
     "execution_count": 37,
     "metadata": {},
     "output_type": "execute_result"
    }
   ],
   "source": [
    "my_intervention = Intervention()\n",
    "my_intervention.vaccinated"
   ]
  },
  {
   "cell_type": "code",
   "execution_count": 38,
   "id": "8001b9e8",
   "metadata": {
    "ExecuteTime": {
     "end_time": "2023-08-21T13:11:55.034813Z",
     "start_time": "2023-08-21T13:11:54.956129Z"
    }
   },
   "outputs": [
    {
     "data": {
      "text/plain": [
       "13"
      ]
     },
     "execution_count": 38,
     "metadata": {},
     "output_type": "execute_result"
    }
   ],
   "source": [
    "len(p)"
   ]
  },
  {
   "cell_type": "code",
   "execution_count": 39,
   "id": "ad335b26",
   "metadata": {
    "ExecuteTime": {
     "end_time": "2023-08-21T13:11:55.112635Z",
     "start_time": "2023-08-21T13:11:55.035814Z"
    }
   },
   "outputs": [],
   "source": [
    "my_intervention.initialize(p)"
   ]
  },
  {
   "cell_type": "code",
   "execution_count": 40,
   "id": "28a46955",
   "metadata": {
    "ExecuteTime": {
     "end_time": "2023-08-21T13:11:55.190949Z",
     "start_time": "2023-08-21T13:11:55.113684Z"
    }
   },
   "outputs": [
    {
     "data": {
      "text/plain": [
       "     Quantity\n",
       "UID          \n",
       "3       False\n",
       "4       False\n",
       "5       False\n",
       "6       False\n",
       "7       False\n",
       "8       False\n",
       "9       False\n",
       "10      False\n",
       "11      False\n",
       "12      False\n",
       "13      False\n",
       "14      False\n",
       "15      False"
      ]
     },
     "execution_count": 40,
     "metadata": {},
     "output_type": "execute_result"
    }
   ],
   "source": [
    "my_intervention.vaccinated"
   ]
  },
  {
   "cell_type": "code",
   "execution_count": 41,
   "id": "293d5b37",
   "metadata": {
    "ExecuteTime": {
     "end_time": "2023-08-21T13:11:55.269307Z",
     "start_time": "2023-08-21T13:11:55.195953Z"
    }
   },
   "outputs": [],
   "source": [
    "my_intervention.vaccinated.values[0:10] = True"
   ]
  },
  {
   "cell_type": "code",
   "execution_count": 42,
   "id": "3e32178e",
   "metadata": {
    "ExecuteTime": {
     "end_time": "2023-08-21T13:11:55.348354Z",
     "start_time": "2023-08-21T13:11:55.270309Z"
    }
   },
   "outputs": [
    {
     "data": {
      "text/plain": [
       "     Quantity\n",
       "UID          \n",
       "3        True\n",
       "4        True\n",
       "5        True\n",
       "6        True\n",
       "7        True\n",
       "8        True\n",
       "9        True\n",
       "10       True\n",
       "11       True\n",
       "12       True\n",
       "13      False\n",
       "14      False\n",
       "15      False"
      ]
     },
     "execution_count": 42,
     "metadata": {},
     "output_type": "execute_result"
    }
   ],
   "source": [
    "my_intervention.vaccinated"
   ]
  },
  {
   "cell_type": "code",
   "execution_count": 43,
   "id": "e063ec2c",
   "metadata": {
    "ExecuteTime": {
     "end_time": "2023-08-21T13:11:55.427575Z",
     "start_time": "2023-08-21T13:11:55.349355Z"
    }
   },
   "outputs": [],
   "source": [
    "p.grow(5)"
   ]
  },
  {
   "cell_type": "code",
   "execution_count": 45,
   "id": "48ea301c",
   "metadata": {
    "ExecuteTime": {
     "end_time": "2023-08-21T13:12:05.385709Z",
     "start_time": "2023-08-21T13:12:05.299373Z"
    }
   },
   "outputs": [
    {
     "data": {
      "text/plain": [
       "     Quantity\n",
       "UID          \n",
       "3        True\n",
       "4        True\n",
       "5        True\n",
       "6        True\n",
       "7        True\n",
       "8        True\n",
       "9        True\n",
       "10       True\n",
       "11       True\n",
       "12       True\n",
       "13      False\n",
       "14      False\n",
       "15      False\n",
       "16      False\n",
       "17      False\n",
       "18      False\n",
       "19      False\n",
       "20      False"
      ]
     },
     "execution_count": 45,
     "metadata": {},
     "output_type": "execute_result"
    }
   ],
   "source": [
    "my_intervention.vaccinated"
   ]
  },
  {
   "cell_type": "markdown",
   "id": "b6630103",
   "metadata": {},
   "source": [
    "## Stateful modules"
   ]
  },
  {
   "cell_type": "markdown",
   "id": "696affe8",
   "metadata": {},
   "source": [
    "If the `State` object is itself stateful and the modules can be stateful too, then we don't need\n",
    "\n",
    "```\n",
    "class HIV(module):\n",
    "    def __init__(self):\n",
    "        self.states = [\n",
    "            State('susceptible', bool, True),\n",
    "            State('infected', bool, False),\n",
    "            State('ti_infected', float, 0),\n",
    "            State('ti_dead', float, np.nan),\n",
    "            ]\n",
    "```\n",
    "\n",
    "instead we can actually just have\n",
    "\n",
    "```\n",
    "class HIV(module):\n",
    "    def __init__(self):\n",
    "        self.sus = State('susceptible', bool, True)\n",
    "        self.infected = State('infected', bool, False)\n",
    "        self.ti_infected = State('ti_infected', float, 0)\n",
    "        self.ti_dead = State('ti_dead', float, np.nan)\n",
    "\n",
    "```\n",
    "\n",
    "Then these states can be initialized in-place, and referenced directly. So instead of\n",
    "\n",
    "\n",
    "```\n",
    "class HIV(module):\n",
    "    def set_prognoses(self, sim, uids):\n",
    "        sim.people[self.name].susceptible[uids] = False\n",
    "        sim.people[self.name].infected[uids] = True\n",
    "        sim.people[self.name].ti_infected[uids] = sim.ti\n",
    "```\n",
    "\n",
    "we could have\n",
    "\n",
    "```\n",
    "class HIV(module):\n",
    "    def set_prognoses(self, sim, uids):\n",
    "        self.susceptible[uids] = False\n",
    "        self.infected[uids] = True\n",
    "        self.ti_infected[uids] = sim.ti\n",
    "```\n",
    "\n",
    "That doesn't preclude ALSO having a reference to these same states in `people.hiv.susceptible`. This would mirror having `sim.pars.hiv` mirror `HIV.pars`"
   ]
  },
  {
   "cell_type": "code",
   "execution_count": null,
   "id": "1352c58f",
   "metadata": {},
   "outputs": [],
   "source": []
  }
 ],
 "metadata": {
  "kernelspec": {
   "display_name": "Python [conda env:atomica310]",
   "language": "python",
   "name": "conda-env-atomica310-py"
  },
  "language_info": {
   "codemirror_mode": {
    "name": "ipython",
    "version": 3
   },
   "file_extension": ".py",
   "mimetype": "text/x-python",
   "name": "python",
   "nbconvert_exporter": "python",
   "pygments_lexer": "ipython3",
   "version": "3.10.11"
  },
  "toc": {
   "base_numbering": 1,
   "nav_menu": {},
   "number_sections": true,
   "sideBar": true,
   "skip_h1_title": false,
   "title_cell": "Table of Contents",
   "title_sidebar": "Contents",
   "toc_cell": false,
   "toc_position": {
    "height": "calc(100% - 180px)",
    "left": "10px",
    "top": "150px",
    "width": "328.6px"
   },
   "toc_section_display": true,
   "toc_window_display": true
  }
 },
 "nbformat": 4,
 "nbformat_minor": 5
}
