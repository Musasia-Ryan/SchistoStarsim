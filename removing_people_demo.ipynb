{
 "cells": [
  {
   "cell_type": "code",
   "execution_count": 1,
   "id": "55881074",
   "metadata": {
    "ExecuteTime": {
     "end_time": "2023-08-22T22:42:54.398198Z",
     "start_time": "2023-08-22T22:42:54.323126Z"
    }
   },
   "outputs": [],
   "source": [
    "%load_ext autoreload\n",
    "%autoreload 2"
   ]
  },
  {
   "cell_type": "code",
   "execution_count": 2,
   "id": "e0e9c76d",
   "metadata": {
    "ExecuteTime": {
     "end_time": "2023-08-22T22:42:55.255509Z",
     "start_time": "2023-08-22T22:42:54.400198Z"
    }
   },
   "outputs": [],
   "source": [
    "from removing_people import *"
   ]
  },
  {
   "cell_type": "markdown",
   "id": "c2a30b2c",
   "metadata": {},
   "source": [
    "# Removing people concept"
   ]
  },
  {
   "cell_type": "code",
   "execution_count": 3,
   "id": "4f9a9f0a",
   "metadata": {
    "ExecuteTime": {
     "end_time": "2023-08-22T22:42:55.333082Z",
     "start_time": "2023-08-22T22:42:55.257511Z"
    }
   },
   "outputs": [],
   "source": [
    "x = State('foo', int, 0)\n",
    "z = State('bar', int, lambda n: np.random.randint(1,4,n))\n",
    "\n",
    "p = DynamicPeople(states=[x,z])\n",
    "p.initialize(3)\n"
   ]
  },
  {
   "cell_type": "code",
   "execution_count": 4,
   "id": "84448832",
   "metadata": {
    "ExecuteTime": {
     "end_time": "2023-08-22T22:42:55.412661Z",
     "start_time": "2023-08-22T22:42:55.334083Z"
    }
   },
   "outputs": [
    {
     "data": {
      "text/plain": [
       "     Quantity\n",
       "UID          \n",
       "0           0\n",
       "1           0\n",
       "2           0"
      ]
     },
     "execution_count": 4,
     "metadata": {},
     "output_type": "execute_result"
    }
   ],
   "source": [
    "x"
   ]
  },
  {
   "cell_type": "code",
   "execution_count": 5,
   "id": "a55303a5",
   "metadata": {
    "ExecuteTime": {
     "end_time": "2023-08-22T22:42:55.492731Z",
     "start_time": "2023-08-22T22:42:55.415664Z"
    }
   },
   "outputs": [
    {
     "data": {
      "text/plain": [
       "array([0, 1, 2])"
      ]
     },
     "execution_count": 5,
     "metadata": {},
     "output_type": "execute_result"
    }
   ],
   "source": [
    "x.uids"
   ]
  },
  {
   "cell_type": "code",
   "execution_count": 6,
   "id": "847c58b6",
   "metadata": {
    "ExecuteTime": {
     "end_time": "2023-08-22T22:42:55.571304Z",
     "start_time": "2023-08-22T22:42:55.493733Z"
    }
   },
   "outputs": [
    {
     "data": {
      "text/plain": [
       "array([0, 0, 0])"
      ]
     },
     "execution_count": 6,
     "metadata": {},
     "output_type": "execute_result"
    }
   ],
   "source": [
    "x.values"
   ]
  },
  {
   "cell_type": "code",
   "execution_count": 7,
   "id": "9a8b20a7",
   "metadata": {
    "ExecuteTime": {
     "end_time": "2023-08-22T22:42:55.744878Z",
     "start_time": "2023-08-22T22:42:55.667131Z"
    }
   },
   "outputs": [
    {
     "data": {
      "text/plain": [
       "     Quantity\n",
       "UID          \n",
       "0           1\n",
       "1           1\n",
       "2           1"
      ]
     },
     "execution_count": 7,
     "metadata": {},
     "output_type": "execute_result"
    }
   ],
   "source": [
    "z"
   ]
  },
  {
   "cell_type": "code",
   "execution_count": 8,
   "id": "792d35ae",
   "metadata": {
    "ExecuteTime": {
     "end_time": "2023-08-22T22:42:55.823573Z",
     "start_time": "2023-08-22T22:42:55.746883Z"
    }
   },
   "outputs": [],
   "source": [
    "p.grow(3)"
   ]
  },
  {
   "cell_type": "code",
   "execution_count": 9,
   "id": "b88a5f76",
   "metadata": {
    "ExecuteTime": {
     "end_time": "2023-08-22T22:42:55.902647Z",
     "start_time": "2023-08-22T22:42:55.824577Z"
    }
   },
   "outputs": [
    {
     "data": {
      "text/plain": [
       "     Quantity\n",
       "UID          \n",
       "0           0\n",
       "1           0\n",
       "2           0\n",
       "3           0\n",
       "4           0\n",
       "5           0"
      ]
     },
     "execution_count": 9,
     "metadata": {},
     "output_type": "execute_result"
    }
   ],
   "source": [
    "x"
   ]
  },
  {
   "cell_type": "code",
   "execution_count": 10,
   "id": "b1c11b85",
   "metadata": {
    "ExecuteTime": {
     "end_time": "2023-08-22T22:42:55.982223Z",
     "start_time": "2023-08-22T22:42:55.903649Z"
    }
   },
   "outputs": [
    {
     "data": {
      "text/plain": [
       "     Quantity\n",
       "UID          \n",
       "0           1\n",
       "1           1\n",
       "2           1\n",
       "3           3\n",
       "4           3\n",
       "5           3"
      ]
     },
     "execution_count": 10,
     "metadata": {},
     "output_type": "execute_result"
    }
   ],
   "source": [
    "z"
   ]
  },
  {
   "cell_type": "markdown",
   "id": "77660fc3",
   "metadata": {},
   "source": [
    "## Some indexing operations"
   ]
  },
  {
   "cell_type": "markdown",
   "id": "59f9fd45",
   "metadata": {
    "ExecuteTime": {
     "end_time": "2023-08-21T12:48:48.605111Z",
     "start_time": "2023-08-21T12:48:48.511523Z"
    }
   },
   "source": [
    "Different kinds of indexing\n",
    "\n",
    "- Single index\n",
    "- List/array of indices\n",
    "- Boolean array\n",
    "- Slices"
   ]
  },
  {
   "cell_type": "code",
   "execution_count": 11,
   "id": "e913aa6c",
   "metadata": {
    "ExecuteTime": {
     "end_time": "2023-08-22T22:42:56.061794Z",
     "start_time": "2023-08-22T22:42:55.983224Z"
    }
   },
   "outputs": [
    {
     "data": {
      "text/plain": [
       "     Quantity\n",
       "UID          \n",
       "0           0\n",
       "1           0\n",
       "2          10\n",
       "3          20\n",
       "4           0\n",
       "5           0"
      ]
     },
     "execution_count": 11,
     "metadata": {},
     "output_type": "execute_result"
    }
   ],
   "source": [
    "x[2] = 10\n",
    "x[3] = 20\n",
    "x"
   ]
  },
  {
   "cell_type": "code",
   "execution_count": 12,
   "id": "5c35a118",
   "metadata": {
    "ExecuteTime": {
     "end_time": "2023-08-22T22:42:56.141369Z",
     "start_time": "2023-08-22T22:42:56.063796Z"
    }
   },
   "outputs": [
    {
     "data": {
      "text/plain": [
       "     Quantity\n",
       "UID          \n",
       "0       False\n",
       "1       False\n",
       "2        True\n",
       "3        True\n",
       "4       False\n",
       "5       False"
      ]
     },
     "execution_count": 12,
     "metadata": {},
     "output_type": "execute_result"
    }
   ],
   "source": [
    "x>0"
   ]
  },
  {
   "cell_type": "code",
   "execution_count": 13,
   "id": "913cb48d",
   "metadata": {
    "ExecuteTime": {
     "end_time": "2023-08-22T22:42:56.220945Z",
     "start_time": "2023-08-22T22:42:56.145373Z"
    }
   },
   "outputs": [
    {
     "data": {
      "text/plain": [
       "     Quantity\n",
       "UID          \n",
       "2          10\n",
       "3          20"
      ]
     },
     "execution_count": 13,
     "metadata": {},
     "output_type": "execute_result"
    }
   ],
   "source": [
    "x[x>0]"
   ]
  },
  {
   "cell_type": "code",
   "execution_count": 14,
   "id": "e81d119f",
   "metadata": {
    "ExecuteTime": {
     "end_time": "2023-08-22T22:42:56.379737Z",
     "start_time": "2023-08-22T22:42:56.301164Z"
    }
   },
   "outputs": [
    {
     "data": {
      "text/plain": [
       "     Quantity\n",
       "UID          \n",
       "0           1\n",
       "1           1\n",
       "2           1\n",
       "3           3\n",
       "4           3\n",
       "5           3"
      ]
     },
     "execution_count": 14,
     "metadata": {},
     "output_type": "execute_result"
    }
   ],
   "source": [
    "z"
   ]
  },
  {
   "cell_type": "code",
   "execution_count": 15,
   "id": "bd8d5f08",
   "metadata": {
    "ExecuteTime": {
     "end_time": "2023-08-22T22:42:56.458304Z",
     "start_time": "2023-08-22T22:42:56.381741Z"
    }
   },
   "outputs": [],
   "source": [
    "z+= 1"
   ]
  },
  {
   "cell_type": "code",
   "execution_count": 16,
   "id": "6e12f682",
   "metadata": {
    "ExecuteTime": {
     "end_time": "2023-08-22T22:42:56.536883Z",
     "start_time": "2023-08-22T22:42:56.459309Z"
    }
   },
   "outputs": [
    {
     "data": {
      "text/plain": [
       "     Quantity\n",
       "UID          \n",
       "0           2\n",
       "1           2\n",
       "2           2\n",
       "3           4\n",
       "4           4\n",
       "5           4"
      ]
     },
     "execution_count": 16,
     "metadata": {},
     "output_type": "execute_result"
    }
   ],
   "source": [
    "z"
   ]
  },
  {
   "cell_type": "code",
   "execution_count": 17,
   "id": "736fe673",
   "metadata": {
    "ExecuteTime": {
     "end_time": "2023-08-22T22:42:56.617066Z",
     "start_time": "2023-08-22T22:42:56.537884Z"
    }
   },
   "outputs": [],
   "source": [
    "z[[1,3,5]] += 10"
   ]
  },
  {
   "cell_type": "code",
   "execution_count": 18,
   "id": "72e2dac6",
   "metadata": {
    "ExecuteTime": {
     "end_time": "2023-08-22T22:42:56.697139Z",
     "start_time": "2023-08-22T22:42:56.618067Z"
    }
   },
   "outputs": [
    {
     "data": {
      "text/plain": [
       "     Quantity\n",
       "UID          \n",
       "0           2\n",
       "1          12\n",
       "2           2\n",
       "3          14\n",
       "4           4\n",
       "5          14"
      ]
     },
     "execution_count": 18,
     "metadata": {},
     "output_type": "execute_result"
    }
   ],
   "source": [
    "z"
   ]
  },
  {
   "cell_type": "code",
   "execution_count": 19,
   "id": "33ed3321",
   "metadata": {
    "ExecuteTime": {
     "end_time": "2023-08-22T22:42:56.776709Z",
     "start_time": "2023-08-22T22:42:56.698141Z"
    }
   },
   "outputs": [
    {
     "data": {
      "text/plain": [
       "8.0"
      ]
     },
     "execution_count": 19,
     "metadata": {},
     "output_type": "execute_result"
    }
   ],
   "source": [
    "np.mean(z)"
   ]
  },
  {
   "cell_type": "markdown",
   "id": "ecd921e9",
   "metadata": {},
   "source": [
    "## Removing people"
   ]
  },
  {
   "cell_type": "code",
   "execution_count": 20,
   "id": "f7f43b09",
   "metadata": {
    "ExecuteTime": {
     "end_time": "2023-08-22T22:42:56.856285Z",
     "start_time": "2023-08-22T22:42:56.777711Z"
    }
   },
   "outputs": [
    {
     "data": {
      "text/plain": [
       "     Quantity\n",
       "UID          \n",
       "0           0\n",
       "1           0\n",
       "2          10\n",
       "3          20\n",
       "4           0\n",
       "5           0"
      ]
     },
     "execution_count": 20,
     "metadata": {},
     "output_type": "execute_result"
    }
   ],
   "source": [
    "x"
   ]
  },
  {
   "cell_type": "code",
   "execution_count": 21,
   "id": "e57cd75a",
   "metadata": {
    "ExecuteTime": {
     "end_time": "2023-08-22T22:42:56.935860Z",
     "start_time": "2023-08-22T22:42:56.857286Z"
    }
   },
   "outputs": [],
   "source": [
    "p.remove([0,1])"
   ]
  },
  {
   "cell_type": "code",
   "execution_count": 22,
   "id": "14e7e32a",
   "metadata": {
    "ExecuteTime": {
     "end_time": "2023-08-22T22:42:57.015131Z",
     "start_time": "2023-08-22T22:42:56.936861Z"
    }
   },
   "outputs": [
    {
     "data": {
      "text/plain": [
       "     Quantity\n",
       "UID          \n",
       "2          10\n",
       "3          20\n",
       "4           0\n",
       "5           0"
      ]
     },
     "execution_count": 22,
     "metadata": {},
     "output_type": "execute_result"
    }
   ],
   "source": [
    "x"
   ]
  },
  {
   "cell_type": "code",
   "execution_count": 23,
   "id": "570d1fba",
   "metadata": {
    "ExecuteTime": {
     "end_time": "2023-08-22T22:42:57.094512Z",
     "start_time": "2023-08-22T22:42:57.016131Z"
    }
   },
   "outputs": [],
   "source": [
    "p.remove(2)"
   ]
  },
  {
   "cell_type": "code",
   "execution_count": 24,
   "id": "ae5addd5",
   "metadata": {
    "ExecuteTime": {
     "end_time": "2023-08-22T22:42:57.173093Z",
     "start_time": "2023-08-22T22:42:57.095517Z"
    }
   },
   "outputs": [
    {
     "data": {
      "text/plain": [
       "     Quantity\n",
       "UID          \n",
       "3          20\n",
       "4           0\n",
       "5           0"
      ]
     },
     "execution_count": 24,
     "metadata": {},
     "output_type": "execute_result"
    }
   ],
   "source": [
    "x"
   ]
  },
  {
   "cell_type": "code",
   "execution_count": 25,
   "id": "512eace9",
   "metadata": {
    "ExecuteTime": {
     "end_time": "2023-08-22T22:42:57.251668Z",
     "start_time": "2023-08-22T22:42:57.174094Z"
    }
   },
   "outputs": [
    {
     "data": {
      "text/plain": [
       "20"
      ]
     },
     "execution_count": 25,
     "metadata": {},
     "output_type": "execute_result"
    }
   ],
   "source": [
    "x[3]"
   ]
  },
  {
   "cell_type": "code",
   "execution_count": 26,
   "id": "df7efd24",
   "metadata": {
    "ExecuteTime": {
     "end_time": "2023-08-22T22:42:57.583351Z",
     "start_time": "2023-08-22T22:42:57.504780Z"
    }
   },
   "outputs": [
    {
     "name": "stdout",
     "output_type": "stream",
     "text": [
      "Slicing not supported - slice the .values attribute by index instead e.g., x.values[0:5], not x[0:5]\n"
     ]
    }
   ],
   "source": [
    "try:\n",
    "    x[0:3]\n",
    "except Exception as e:\n",
    "    print(e)"
   ]
  },
  {
   "cell_type": "code",
   "execution_count": 27,
   "id": "8d229b67-02af-4d62-abc7-1f9891c6569b",
   "metadata": {},
   "outputs": [
    {
     "data": {
      "text/plain": [
       "     Quantity\n",
       "UID          \n",
       "3          20\n",
       "4           0\n",
       "5           0"
      ]
     },
     "execution_count": 27,
     "metadata": {},
     "output_type": "execute_result"
    }
   ],
   "source": [
    "x[:]"
   ]
  },
  {
   "cell_type": "code",
   "execution_count": 28,
   "id": "49731174",
   "metadata": {
    "ExecuteTime": {
     "end_time": "2023-08-22T22:42:57.662927Z",
     "start_time": "2023-08-22T22:42:57.585353Z"
    }
   },
   "outputs": [
    {
     "data": {
      "text/plain": [
       "array([20,  0,  0])"
      ]
     },
     "execution_count": 28,
     "metadata": {},
     "output_type": "execute_result"
    }
   ],
   "source": [
    "x.values[0:3]"
   ]
  },
  {
   "cell_type": "markdown",
   "id": "ce87fe11",
   "metadata": {},
   "source": [
    "## cv.true"
   ]
  },
  {
   "cell_type": "markdown",
   "id": "d7aab623",
   "metadata": {
    "ExecuteTime": {
     "end_time": "2023-08-21T12:46:22.556191Z",
     "start_time": "2023-08-21T12:46:22.401042Z"
    }
   },
   "source": [
    "This example\n",
    "\n",
    "```python\n",
    "filter_inds = people.true('hiv')  # indices fo people with HIV\n",
    "if len(filter_inds):    \n",
    "    art_inds = filter_inds[hpu.true(people.art[filter_inds])]  # Indices of people on ART\n",
    "    not_art_inds = filter_inds[hpu.false(people.art[filter_inds])]\n",
    "    cd4_remaining_inds = hpu.itrue(((people.t - people.date_hiv[not_art_inds]) * dt) < people.dur_hiv[not_art_inds], not_art_inds)  # Indices of people not on ART who have an active infection\n",
    "```\n",
    "\n",
    "illustrates typical usage of the true() function - need to chain indexing i.e., subsequently index `filter_inds` rather than the original `People`."
   ]
  },
  {
   "cell_type": "code",
   "execution_count": 29,
   "id": "f758fc5a",
   "metadata": {
    "ExecuteTime": {
     "end_time": "2023-08-22T22:42:57.741652Z",
     "start_time": "2023-08-22T22:42:57.663928Z"
    }
   },
   "outputs": [],
   "source": [
    "p.grow(10)"
   ]
  },
  {
   "cell_type": "code",
   "execution_count": 30,
   "id": "e3c28f56",
   "metadata": {
    "ExecuteTime": {
     "end_time": "2023-08-22T22:42:57.820234Z",
     "start_time": "2023-08-22T22:42:57.742657Z"
    }
   },
   "outputs": [
    {
     "data": {
      "text/plain": [
       "     Quantity\n",
       "UID          \n",
       "3          14\n",
       "4           4\n",
       "5          14\n",
       "6           1\n",
       "7           1\n",
       "8           1\n",
       "9           1\n",
       "10          1\n",
       "11          2\n",
       "12          1\n",
       "13          1\n",
       "14          2\n",
       "15          3"
      ]
     },
     "execution_count": 30,
     "metadata": {},
     "output_type": "execute_result"
    }
   ],
   "source": [
    "z"
   ]
  },
  {
   "cell_type": "code",
   "execution_count": 31,
   "id": "080f6f02",
   "metadata": {
    "ExecuteTime": {
     "end_time": "2023-08-22T22:42:57.899533Z",
     "start_time": "2023-08-22T22:42:57.821235Z"
    },
    "scrolled": true
   },
   "outputs": [
    {
     "data": {
      "text/plain": [
       "     Quantity\n",
       "UID          \n",
       "3        True\n",
       "4        True\n",
       "5        True\n",
       "6       False\n",
       "7       False\n",
       "8       False\n",
       "9       False\n",
       "10      False\n",
       "11       True\n",
       "12      False\n",
       "13      False\n",
       "14       True\n",
       "15       True"
      ]
     },
     "execution_count": 31,
     "metadata": {},
     "output_type": "execute_result"
    }
   ],
   "source": [
    "z>1"
   ]
  },
  {
   "cell_type": "code",
   "execution_count": 32,
   "id": "724f47cc",
   "metadata": {
    "ExecuteTime": {
     "end_time": "2023-08-22T22:42:57.979063Z",
     "start_time": "2023-08-22T22:42:57.900534Z"
    }
   },
   "outputs": [],
   "source": [
    "def true(x):\n",
    "    return x.uids[np.nonzero(x)].ravel()"
   ]
  },
  {
   "cell_type": "code",
   "execution_count": 33,
   "id": "e25cdced",
   "metadata": {
    "ExecuteTime": {
     "end_time": "2023-08-22T22:42:58.058088Z",
     "start_time": "2023-08-22T22:42:57.980067Z"
    }
   },
   "outputs": [
    {
     "data": {
      "text/plain": [
       "array([ 3,  4,  5, 11, 14, 15])"
      ]
     },
     "execution_count": 33,
     "metadata": {},
     "output_type": "execute_result"
    }
   ],
   "source": [
    "gt_1 = true(z>1)\n",
    "gt_1"
   ]
  },
  {
   "cell_type": "code",
   "execution_count": 34,
   "id": "f7388804",
   "metadata": {
    "ExecuteTime": {
     "end_time": "2023-08-22T22:42:58.137662Z",
     "start_time": "2023-08-22T22:42:58.059091Z"
    }
   },
   "outputs": [
    {
     "data": {
      "text/plain": [
       "array([11, 14])"
      ]
     },
     "execution_count": 34,
     "metadata": {},
     "output_type": "execute_result"
    }
   ],
   "source": [
    "gt_1_lt_3 = true(z[gt_1]<3)\n",
    "gt_1_lt_3"
   ]
  },
  {
   "cell_type": "markdown",
   "id": "9f3e7f66",
   "metadata": {
    "ExecuteTime": {
     "end_time": "2023-08-21T12:58:26.196667Z",
     "start_time": "2023-08-21T12:58:26.118093Z"
    }
   },
   "source": [
    "Idea is we would be able to write things like\n",
    "\n",
    "```python\n",
    "hiv_uids = ss.true(hiv)\n",
    "art_uids = ss.true(art[hiv_uids])\n",
    "not_art_uids = ss.false(art[hiv_uids])\n",
    "```"
   ]
  },
  {
   "cell_type": "markdown",
   "id": "bac6053a",
   "metadata": {},
   "source": [
    "## Distributed states"
   ]
  },
  {
   "cell_type": "markdown",
   "id": "e9a46ed0",
   "metadata": {},
   "source": [
    "- Define a state anywhere\n",
    "- Connect it to a people instance at initialization"
   ]
  },
  {
   "cell_type": "code",
   "execution_count": 46,
   "id": "4cfc92ed",
   "metadata": {
    "ExecuteTime": {
     "end_time": "2023-08-22T22:42:58.217476Z",
     "start_time": "2023-08-22T22:42:58.138663Z"
    }
   },
   "outputs": [],
   "source": [
    "class Intervention():\n",
    "    def __init__(self):\n",
    "        self.vaccinated = State('day_vaccinated',bool)\n",
    "    def initialize(self, people):\n",
    "        # nb. in reality this will take in a Sim and use sim.people\n",
    "        self.vaccinated.initialize(people)\n",
    "        "
   ]
  },
  {
   "cell_type": "code",
   "execution_count": 47,
   "id": "abcf8be5",
   "metadata": {
    "ExecuteTime": {
     "end_time": "2023-08-22T22:42:58.313263Z",
     "start_time": "2023-08-22T22:42:58.218478Z"
    }
   },
   "outputs": [
    {
     "data": {
      "text/plain": [
       "<State day_vaccinated (uninitialized)>"
      ]
     },
     "execution_count": 47,
     "metadata": {},
     "output_type": "execute_result"
    }
   ],
   "source": [
    "my_intervention = Intervention()\n",
    "my_intervention.vaccinated"
   ]
  },
  {
   "cell_type": "code",
   "execution_count": 48,
   "id": "4c799a15",
   "metadata": {
    "ExecuteTime": {
     "end_time": "2023-08-22T22:42:58.409349Z",
     "start_time": "2023-08-22T22:42:58.318270Z"
    }
   },
   "outputs": [
    {
     "data": {
      "text/plain": [
       "18"
      ]
     },
     "execution_count": 48,
     "metadata": {},
     "output_type": "execute_result"
    }
   ],
   "source": [
    "len(p)"
   ]
  },
  {
   "cell_type": "code",
   "execution_count": 49,
   "id": "fafd836c",
   "metadata": {
    "ExecuteTime": {
     "end_time": "2023-08-22T22:42:58.489438Z",
     "start_time": "2023-08-22T22:42:58.411352Z"
    }
   },
   "outputs": [],
   "source": [
    "my_intervention.initialize(p)"
   ]
  },
  {
   "cell_type": "code",
   "execution_count": 50,
   "id": "f2439bb0",
   "metadata": {
    "ExecuteTime": {
     "end_time": "2023-08-22T22:42:58.569014Z",
     "start_time": "2023-08-22T22:42:58.490440Z"
    }
   },
   "outputs": [
    {
     "data": {
      "text/plain": [
       "     Quantity\n",
       "UID          \n",
       "3       False\n",
       "4       False\n",
       "5       False\n",
       "6       False\n",
       "7       False\n",
       "8       False\n",
       "9       False\n",
       "10      False\n",
       "11      False\n",
       "12      False\n",
       "13      False\n",
       "14      False\n",
       "15      False\n",
       "16      False\n",
       "17      False\n",
       "18      False\n",
       "19      False\n",
       "20      False"
      ]
     },
     "execution_count": 50,
     "metadata": {},
     "output_type": "execute_result"
    }
   ],
   "source": [
    "my_intervention.vaccinated"
   ]
  },
  {
   "cell_type": "code",
   "execution_count": 51,
   "id": "75040cb6",
   "metadata": {
    "ExecuteTime": {
     "end_time": "2023-08-22T22:42:58.647998Z",
     "start_time": "2023-08-22T22:42:58.571016Z"
    }
   },
   "outputs": [],
   "source": [
    "my_intervention.vaccinated.values[0:10] = True"
   ]
  },
  {
   "cell_type": "code",
   "execution_count": 52,
   "id": "ac44d36b",
   "metadata": {
    "ExecuteTime": {
     "end_time": "2023-08-22T22:42:58.727573Z",
     "start_time": "2023-08-22T22:42:58.650001Z"
    }
   },
   "outputs": [
    {
     "data": {
      "text/plain": [
       "     Quantity\n",
       "UID          \n",
       "3        True\n",
       "4        True\n",
       "5        True\n",
       "6        True\n",
       "7        True\n",
       "8        True\n",
       "9        True\n",
       "10       True\n",
       "11       True\n",
       "12       True\n",
       "13      False\n",
       "14      False\n",
       "15      False\n",
       "16      False\n",
       "17      False\n",
       "18      False\n",
       "19      False\n",
       "20      False"
      ]
     },
     "execution_count": 52,
     "metadata": {},
     "output_type": "execute_result"
    }
   ],
   "source": [
    "my_intervention.vaccinated"
   ]
  },
  {
   "cell_type": "code",
   "execution_count": 53,
   "id": "eed87e20",
   "metadata": {
    "ExecuteTime": {
     "end_time": "2023-08-22T22:42:58.807646Z",
     "start_time": "2023-08-22T22:42:58.728574Z"
    }
   },
   "outputs": [],
   "source": [
    "p.grow(5)"
   ]
  },
  {
   "cell_type": "code",
   "execution_count": 54,
   "id": "38730451",
   "metadata": {
    "ExecuteTime": {
     "end_time": "2023-08-22T22:42:58.887221Z",
     "start_time": "2023-08-22T22:42:58.808647Z"
    }
   },
   "outputs": [
    {
     "data": {
      "text/plain": [
       "     Quantity\n",
       "UID          \n",
       "3        True\n",
       "4        True\n",
       "5        True\n",
       "6        True\n",
       "7        True\n",
       "8        True\n",
       "9        True\n",
       "10       True\n",
       "11       True\n",
       "12       True\n",
       "13      False\n",
       "14      False\n",
       "15      False\n",
       "16      False\n",
       "17      False\n",
       "18      False\n",
       "19      False\n",
       "20      False\n",
       "21      False\n",
       "22      False\n",
       "23      False\n",
       "24      False\n",
       "25      False"
      ]
     },
     "execution_count": 54,
     "metadata": {},
     "output_type": "execute_result"
    }
   ],
   "source": [
    "my_intervention.vaccinated"
   ]
  },
  {
   "cell_type": "markdown",
   "id": "aad9c046",
   "metadata": {},
   "source": [
    "## Stateful modules"
   ]
  },
  {
   "cell_type": "markdown",
   "id": "16b8361a",
   "metadata": {},
   "source": [
    "If the `State` object is itself stateful and the modules can be stateful too, then we don't need\n",
    "\n",
    "```\n",
    "class HIV(module):\n",
    "    def __init__(self):\n",
    "        self.states = [\n",
    "            State('susceptible', bool, True),\n",
    "            State('infected', bool, False),\n",
    "            State('ti_infected', float, 0),\n",
    "            State('ti_dead', float, np.nan),\n",
    "            ]\n",
    "```\n",
    "\n",
    "instead we can actually just have\n",
    "\n",
    "```\n",
    "class HIV(module):\n",
    "    def __init__(self):\n",
    "        self.sus = State('susceptible', bool, True)\n",
    "        self.infected = State('infected', bool, False)\n",
    "        self.ti_infected = State('ti_infected', float, 0)\n",
    "        self.ti_dead = State('ti_dead', float, np.nan)\n",
    "\n",
    "```\n",
    "\n",
    "Then these states can be initialized in-place, and referenced directly. So instead of\n",
    "\n",
    "\n",
    "```\n",
    "class HIV(module):\n",
    "    def set_prognoses(self, sim, uids):\n",
    "        sim.people[self.name].susceptible[uids] = False\n",
    "        sim.people[self.name].infected[uids] = True\n",
    "        sim.people[self.name].ti_infected[uids] = sim.ti\n",
    "```\n",
    "\n",
    "we could have\n",
    "\n",
    "```\n",
    "class HIV(module):\n",
    "    def set_prognoses(self, sim, uids):\n",
    "        self.susceptible[uids] = False\n",
    "        self.infected[uids] = True\n",
    "        self.ti_infected[uids] = sim.ti\n",
    "```\n",
    "\n",
    "That doesn't preclude ALSO having a reference to these same states in `people.hiv.susceptible`. This would mirror having `sim.pars.hiv` mirror `HIV.pars`"
   ]
  },
  {
   "cell_type": "markdown",
   "id": "8d907bfa",
   "metadata": {},
   "source": [
    "# Class structure\n",
    "\n",
    "- UID map and UIDs need to be dynamic, but should be accessed by index rather than UID (`DynamicView`)\n",
    "- States need to be dynamic and accessed by UID (`State(FusedArray)` containing a `DynamicView` where the `FusedArray` values reference the `DynamicView`'s `_view`)\n",
    "- Indexing states need to return a container accessed by UID but with different UIDs to the people, and does not need to be dynamic (`FusedArray`)\n"
   ]
  },
  {
   "cell_type": "code",
   "execution_count": null,
   "id": "932069b3",
   "metadata": {},
   "outputs": [],
   "source": []
  },
  {
   "cell_type": "code",
   "execution_count": null,
   "id": "0e8d7fa5-1405-4962-a68f-a094c956c29d",
   "metadata": {},
   "outputs": [],
   "source": []
  }
 ],
 "metadata": {
  "kernelspec": {
   "display_name": "Python [conda env:atomica310]",
   "language": "python",
   "name": "conda-env-atomica310-py"
  },
  "language_info": {
   "codemirror_mode": {
    "name": "ipython",
    "version": 3
   },
   "file_extension": ".py",
   "mimetype": "text/x-python",
   "name": "python",
   "nbconvert_exporter": "python",
   "pygments_lexer": "ipython3",
   "version": "3.10.11"
  },
  "toc": {
   "base_numbering": 1,
   "nav_menu": {},
   "number_sections": true,
   "sideBar": true,
   "skip_h1_title": false,
   "title_cell": "Table of Contents",
   "title_sidebar": "Contents",
   "toc_cell": false,
   "toc_position": {
    "height": "calc(100% - 180px)",
    "left": "10px",
    "top": "150px",
    "width": "328.6px"
   },
   "toc_section_display": true,
   "toc_window_display": true
  }
 },
 "nbformat": 4,
 "nbformat_minor": 5
}
