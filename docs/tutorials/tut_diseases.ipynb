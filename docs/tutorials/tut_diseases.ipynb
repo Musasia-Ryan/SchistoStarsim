{
 "cells": [
  {
   "cell_type": "markdown",
   "metadata": {},
   "source": [
    "# T4 - Diseases\n",
    "\n",
    "Diseases are the cornerstone of almost any Starsim analysis. This is where you add details about what disease you are modeling, including transmissibility, natural history, and mortality outcomes.      \n",
    "\n",
    "NOTE 1: The version of Starsim was originally conceived as a model for co-circulating STIs, and the current version of the codebase has much more developed models of STIs (including syphilis and HIV) than it does for other pathogens. However, the library of available diseases will keep expanding with time, and we will update these tutorials as it does.\n",
    "\n",
    "NOTE 2: Starsim descended from a family of similar agent-based models that share common architecture and design principles: [Covasim](https://covasim.org/), [HPVsim](https://hpvsim.org/), and [FPsim](https://fpsim.org/). If you are especially interested in modeling COVID-19, HPV and cervical cancer, or family planning, you may be better off using one of these pre-existing models. For all other diseases/health conditions, Starsim is probably your best bet.\n"
   ]
  },
  {
   "cell_type": "markdown",
   "metadata": {},
   "source": [
    "## Overview of Starsim's disease structure\n",
    "\n",
    "The basic template for modeling a disease in Starsim is the `Disease` class. Much like sims or networks, a `Disease` can be customized by passing in a `pars` dictionary containing parameters. THe `Disease` module dose lots of different things, but three of the model fundamental are:\n",
    "- `set_initial_states`, which initializes people into states (e.g. susceptible, infected, recovered)\n",
    "- `make_new_cases`, which makes new cases (e.g., by finding the susceptible contacts of all infected people and calculating the probability of transmission for each)\n",
    "- `set_prognoses`, which sets the outcomes for people who get infected (e.g., by setting their date of recovery or death).\n",
    "\n",
    "It will be most helpful to look at an example. Let's look at the SIR model example again: "
   ]
  },
  {
   "cell_type": "code",
   "execution_count": null,
   "metadata": {},
   "outputs": [],
   "source": [
    "import starsim as ss\n",
    "network = ss.random()\n",
    "sir = ss.SIR()\n",
    "sim = ss.Sim(n_agents=2_000, diseases=sir, networks=network)\n",
    "sim.run()"
   ]
  },
  {
   "cell_type": "markdown",
   "source": [
    "We already saw that this model creates results that are stored in `sim.results.sir`. The results can also be directly accessed via `sir.results`. \n",
    "\n",
    "For more detail on any of the diseases that are in the Starsim library of diseases, please refer to the docstrings and source code of the disease files. "
   ],
   "metadata": {
    "collapsed": false
   }
  },
  {
   "cell_type": "markdown",
   "source": [
    "## Making your own disease\n",
    "If you want to make your own disease, you could either inherit from one of the templates in diseases.py, or you could copy the examples and extend them to capture features of the disease that you want to model. For example, here's how you could extend the SIR model to be an SEIR model:"
   ],
   "metadata": {
    "collapsed": false
   }
  },
  {
   "cell_type": "code",
   "execution_count": null,
   "outputs": [],
   "source": [
    "import numpy as np\n",
    "\n",
    "class SEIR(ss.SIR):\n",
    "    def __init__(self, pars=None, *args, **kwargs):\n",
    "        pars = ss.omerge({\n",
    "            'dur_exp': 0.5,  # Additional pars beyond the SIR model ones\n",
    "        }, pars)\n",
    "        \n",
    "        # Initialize the SIR model, which will add all the parameters and states of that model.\n",
    "        super().__init__(pars=pars, *args, **kwargs)\n",
    "\n",
    "        # Additional states beyond the SIR ones \n",
    "        self.exposed = ss.State('exposed', bool, False)\n",
    "        self.ti_exposed = ss.State('ti_exposed', float, np.nan)\n",
    "\n",
    "        return\n",
    "\n",
    "    def update_pre(self, sim):\n",
    "        # Updates from the SIR model \n",
    "        n_deaths = super().update_pre(sim)\n",
    "\n",
    "        # Additional updates: progress exposed -> infected\n",
    "        infected = ss.true(self.exposed & (self.ti_infected <= sim.year))\n",
    "        self.exposed[infected] = False\n",
    "        self.infected[infected] = True\n",
    "\n",
    "        return n_deaths\n",
    "\n",
    "    def update_death(self, sim, uids):\n",
    "        super().update_death(sim, uids)\n",
    "        self.exposed[uids] = False\n",
    "        return\n",
    "\n",
    "    def infect(self, sim, uids, from_uids):\n",
    "        super().set_prognoses(sim, uids, from_uids)\n",
    "\n",
    "        # Carry out state changes associated with infection\n",
    "        self.susceptible[uids] = False\n",
    "        self.exposed[uids] = True\n",
    "        self.ti_exposed[uids] = sim.year\n",
    "\n",
    "        # Calculate and schedule future outcomes\n",
    "        dur_exp = self.pars['dur_exp'].rvs(uids)\n",
    "        self.ti_infected[uids] = sim.year + dur_exp\n",
    "        dur_inf = self.pars['dur_inf'].rvs(uids)\n",
    "        will_die = self.pars['p_death'].rvs(uids)        \n",
    "        self.ti_recovered[uids[~will_die]] = sim.year + dur_inf[~will_die]\n",
    "        self.ti_dead[uids[will_die]] = sim.year + dur_inf[will_die]\n",
    "\n",
    "        # Update result count of new infections \n",
    "        self.results['new_infections'][sim.ti] += len(uids)\n",
    "        return\n"
   ],
   "metadata": {
    "collapsed": false
   }
  },
  {
   "cell_type": "markdown",
   "source": [
    "\n"
   ],
   "metadata": {
    "collapsed": false
   }
  }
 ],
 "metadata": {
  "kernelspec": {
   "display_name": "Python 3 (ipykernel)",
   "language": "python",
   "name": "python3"
  },
  "language_info": {
   "codemirror_mode": {
    "name": "ipython",
    "version": 3
   },
   "file_extension": ".py",
   "mimetype": "text/x-python",
   "name": "python",
   "nbconvert_exporter": "python",
   "pygments_lexer": "ipython3",
   "version": "3.11.3"
  },
  "pycharm": {
   "stem_cell": {
    "cell_type": "raw",
    "metadata": {
     "collapsed": false
    },
    "source": []
   }
  },
  "toc": {
   "base_numbering": 1,
   "nav_menu": {},
   "number_sections": true,
   "sideBar": true,
   "skip_h1_title": false,
   "title_cell": "Table of Contents",
   "title_sidebar": "Contents",
   "toc_cell": false,
   "toc_position": {},
   "toc_section_display": true,
   "toc_window_display": false
  }
 },
 "nbformat": 4,
 "nbformat_minor": 4
}
