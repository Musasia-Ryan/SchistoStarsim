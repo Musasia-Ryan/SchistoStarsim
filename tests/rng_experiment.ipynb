{
 "cells": [
  {
   "cell_type": "code",
   "execution_count": 50,
   "id": "55881074",
   "metadata": {
    "ExecuteTime": {
     "end_time": "2023-08-27T07:52:23.276040Z",
     "start_time": "2023-08-27T07:52:23.214481Z"
    }
   },
   "outputs": [
    {
     "name": "stdout",
     "output_type": "stream",
     "text": [
      "The autoreload extension is already loaded. To reload it, use:\n",
      "  %reload_ext autoreload\n"
     ]
    }
   ],
   "source": [
    "%load_ext autoreload\n",
    "%autoreload 2"
   ]
  },
  {
   "cell_type": "code",
   "execution_count": 51,
   "id": "c60d109c",
   "metadata": {},
   "outputs": [],
   "source": [
    "import stisim as ss\n",
    "import stisim.utils as ssu\n",
    "import numpy as np\n",
    "import pandas as pd"
   ]
  },
  {
   "cell_type": "markdown",
   "id": "0fb247d0",
   "metadata": {},
   "source": [
    "IDEA 1: Draw more random numbers than needed on each time step and use by row of people arrays.\n",
    "Set seed to seed + ti on each step?"
   ]
  },
  {
   "cell_type": "code",
   "execution_count": 52,
   "id": "c73f0ce1",
   "metadata": {},
   "outputs": [
    {
     "name": "stdout",
     "output_type": "stream",
     "text": [
      "Initializing sim (warning: not resetting sim.people) with 10000 agents\n"
     ]
    }
   ],
   "source": [
    "ppl = ss.People(10)\n",
    "ppl.networks = ss.ndict(ss.mf(), ss.maternal())\n",
    "\n",
    "hiv = ss.HIV()\n",
    "hiv.pars['beta'] = {'mf': [0.0008, 0.0004], 'maternal': [0.2, 0]}\n",
    "\n",
    "sim = ss.Sim(people=ppl, modules=[hiv, ss.Gonorrhea(), ss.Pregnancy()])\n",
    "sim.initialize();\n",
    "#sim.run()"
   ]
  },
  {
   "cell_type": "code",
   "execution_count": 53,
   "id": "106ad6cf",
   "metadata": {},
   "outputs": [],
   "source": [
    "def dfp(vec):\n",
    "    display(pd.DataFrame({'result': vec}, index=pd.Index(sim.people.uid, name='uid')))"
   ]
  },
  {
   "cell_type": "code",
   "execution_count": 54,
   "id": "00dab08a",
   "metadata": {},
   "outputs": [
    {
     "data": {
      "text/html": [
       "<div>\n",
       "<style scoped>\n",
       "    .dataframe tbody tr th:only-of-type {\n",
       "        vertical-align: middle;\n",
       "    }\n",
       "\n",
       "    .dataframe tbody tr th {\n",
       "        vertical-align: top;\n",
       "    }\n",
       "\n",
       "    .dataframe thead th {\n",
       "        text-align: right;\n",
       "    }\n",
       "</style>\n",
       "<table border=\"1\" class=\"dataframe\">\n",
       "  <thead>\n",
       "    <tr style=\"text-align: right;\">\n",
       "      <th></th>\n",
       "      <th>result</th>\n",
       "    </tr>\n",
       "    <tr>\n",
       "      <th>uid</th>\n",
       "      <th></th>\n",
       "    </tr>\n",
       "  </thead>\n",
       "  <tbody>\n",
       "    <tr>\n",
       "      <th>0</th>\n",
       "      <td>0</td>\n",
       "    </tr>\n",
       "    <tr>\n",
       "      <th>1</th>\n",
       "      <td>1</td>\n",
       "    </tr>\n",
       "    <tr>\n",
       "      <th>2</th>\n",
       "      <td>0</td>\n",
       "    </tr>\n",
       "    <tr>\n",
       "      <th>3</th>\n",
       "      <td>0</td>\n",
       "    </tr>\n",
       "    <tr>\n",
       "      <th>4</th>\n",
       "      <td>0</td>\n",
       "    </tr>\n",
       "    <tr>\n",
       "      <th>5</th>\n",
       "      <td>0</td>\n",
       "    </tr>\n",
       "    <tr>\n",
       "      <th>6</th>\n",
       "      <td>0</td>\n",
       "    </tr>\n",
       "    <tr>\n",
       "      <th>7</th>\n",
       "      <td>1</td>\n",
       "    </tr>\n",
       "    <tr>\n",
       "      <th>8</th>\n",
       "      <td>1</td>\n",
       "    </tr>\n",
       "    <tr>\n",
       "      <th>9</th>\n",
       "      <td>0</td>\n",
       "    </tr>\n",
       "  </tbody>\n",
       "</table>\n",
       "</div>"
      ],
      "text/plain": [
       "     result\n",
       "uid        \n",
       "0         0\n",
       "1         1\n",
       "2         0\n",
       "3         0\n",
       "4         0\n",
       "5         0\n",
       "6         0\n",
       "7         1\n",
       "8         1\n",
       "9         0"
      ]
     },
     "metadata": {},
     "output_type": "display_data"
    },
    {
     "data": {
      "text/html": [
       "<div>\n",
       "<style scoped>\n",
       "    .dataframe tbody tr th:only-of-type {\n",
       "        vertical-align: middle;\n",
       "    }\n",
       "\n",
       "    .dataframe tbody tr th {\n",
       "        vertical-align: top;\n",
       "    }\n",
       "\n",
       "    .dataframe thead th {\n",
       "        text-align: right;\n",
       "    }\n",
       "</style>\n",
       "<table border=\"1\" class=\"dataframe\">\n",
       "  <thead>\n",
       "    <tr style=\"text-align: right;\">\n",
       "      <th></th>\n",
       "      <th>result</th>\n",
       "    </tr>\n",
       "    <tr>\n",
       "      <th>uid</th>\n",
       "      <th></th>\n",
       "    </tr>\n",
       "  </thead>\n",
       "  <tbody>\n",
       "    <tr>\n",
       "      <th>0</th>\n",
       "      <td>True</td>\n",
       "    </tr>\n",
       "    <tr>\n",
       "      <th>1</th>\n",
       "      <td>False</td>\n",
       "    </tr>\n",
       "    <tr>\n",
       "      <th>2</th>\n",
       "      <td>False</td>\n",
       "    </tr>\n",
       "    <tr>\n",
       "      <th>3</th>\n",
       "      <td>True</td>\n",
       "    </tr>\n",
       "    <tr>\n",
       "      <th>4</th>\n",
       "      <td>True</td>\n",
       "    </tr>\n",
       "    <tr>\n",
       "      <th>5</th>\n",
       "      <td>False</td>\n",
       "    </tr>\n",
       "    <tr>\n",
       "      <th>6</th>\n",
       "      <td>False</td>\n",
       "    </tr>\n",
       "    <tr>\n",
       "      <th>7</th>\n",
       "      <td>False</td>\n",
       "    </tr>\n",
       "    <tr>\n",
       "      <th>8</th>\n",
       "      <td>False</td>\n",
       "    </tr>\n",
       "    <tr>\n",
       "      <th>9</th>\n",
       "      <td>True</td>\n",
       "    </tr>\n",
       "  </tbody>\n",
       "</table>\n",
       "</div>"
      ],
      "text/plain": [
       "     result\n",
       "uid        \n",
       "0      True\n",
       "1     False\n",
       "2     False\n",
       "3      True\n",
       "4      True\n",
       "5     False\n",
       "6     False\n",
       "7     False\n",
       "8     False\n",
       "9      True"
      ]
     },
     "metadata": {},
     "output_type": "display_data"
    }
   ],
   "source": [
    "ssu.set_seed(0)\n",
    "dfp(np.random.binomial(n=1, p=len(sim.people)*[0.3]))\n",
    "dfp(np.random.choice([True, False], len(sim.people)))"
   ]
  },
  {
   "cell_type": "code",
   "execution_count": 55,
   "id": "99f417c3",
   "metadata": {},
   "outputs": [
    {
     "data": {
      "text/html": [
       "<div>\n",
       "<style scoped>\n",
       "    .dataframe tbody tr th:only-of-type {\n",
       "        vertical-align: middle;\n",
       "    }\n",
       "\n",
       "    .dataframe tbody tr th {\n",
       "        vertical-align: top;\n",
       "    }\n",
       "\n",
       "    .dataframe thead th {\n",
       "        text-align: right;\n",
       "    }\n",
       "</style>\n",
       "<table border=\"1\" class=\"dataframe\">\n",
       "  <thead>\n",
       "    <tr style=\"text-align: right;\">\n",
       "      <th></th>\n",
       "      <th>result</th>\n",
       "    </tr>\n",
       "    <tr>\n",
       "      <th>uid</th>\n",
       "      <th></th>\n",
       "    </tr>\n",
       "  </thead>\n",
       "  <tbody>\n",
       "    <tr>\n",
       "      <th>0</th>\n",
       "      <td>0</td>\n",
       "    </tr>\n",
       "    <tr>\n",
       "      <th>1</th>\n",
       "      <td>1</td>\n",
       "    </tr>\n",
       "    <tr>\n",
       "      <th>2</th>\n",
       "      <td>0</td>\n",
       "    </tr>\n",
       "    <tr>\n",
       "      <th>3</th>\n",
       "      <td>0</td>\n",
       "    </tr>\n",
       "    <tr>\n",
       "      <th>4</th>\n",
       "      <td>0</td>\n",
       "    </tr>\n",
       "    <tr>\n",
       "      <th>5</th>\n",
       "      <td>0</td>\n",
       "    </tr>\n",
       "    <tr>\n",
       "      <th>6</th>\n",
       "      <td>0</td>\n",
       "    </tr>\n",
       "    <tr>\n",
       "      <th>7</th>\n",
       "      <td>1</td>\n",
       "    </tr>\n",
       "    <tr>\n",
       "      <th>8</th>\n",
       "      <td>1</td>\n",
       "    </tr>\n",
       "    <tr>\n",
       "      <th>9</th>\n",
       "      <td>0</td>\n",
       "    </tr>\n",
       "  </tbody>\n",
       "</table>\n",
       "</div>"
      ],
      "text/plain": [
       "     result\n",
       "uid        \n",
       "0         0\n",
       "1         1\n",
       "2         0\n",
       "3         0\n",
       "4         0\n",
       "5         0\n",
       "6         0\n",
       "7         1\n",
       "8         1\n",
       "9         0"
      ]
     },
     "metadata": {},
     "output_type": "display_data"
    },
    {
     "data": {
      "text/html": [
       "<div>\n",
       "<style scoped>\n",
       "    .dataframe tbody tr th:only-of-type {\n",
       "        vertical-align: middle;\n",
       "    }\n",
       "\n",
       "    .dataframe tbody tr th {\n",
       "        vertical-align: top;\n",
       "    }\n",
       "\n",
       "    .dataframe thead th {\n",
       "        text-align: right;\n",
       "    }\n",
       "</style>\n",
       "<table border=\"1\" class=\"dataframe\">\n",
       "  <thead>\n",
       "    <tr style=\"text-align: right;\">\n",
       "      <th></th>\n",
       "      <th>result</th>\n",
       "    </tr>\n",
       "    <tr>\n",
       "      <th>uid</th>\n",
       "      <th></th>\n",
       "    </tr>\n",
       "  </thead>\n",
       "  <tbody>\n",
       "    <tr>\n",
       "      <th>0</th>\n",
       "      <td>True</td>\n",
       "    </tr>\n",
       "    <tr>\n",
       "      <th>1</th>\n",
       "      <td>False</td>\n",
       "    </tr>\n",
       "    <tr>\n",
       "      <th>2</th>\n",
       "      <td>False</td>\n",
       "    </tr>\n",
       "    <tr>\n",
       "      <th>3</th>\n",
       "      <td>True</td>\n",
       "    </tr>\n",
       "    <tr>\n",
       "      <th>4</th>\n",
       "      <td>True</td>\n",
       "    </tr>\n",
       "    <tr>\n",
       "      <th>5</th>\n",
       "      <td>False</td>\n",
       "    </tr>\n",
       "    <tr>\n",
       "      <th>6</th>\n",
       "      <td>False</td>\n",
       "    </tr>\n",
       "    <tr>\n",
       "      <th>7</th>\n",
       "      <td>False</td>\n",
       "    </tr>\n",
       "    <tr>\n",
       "      <th>8</th>\n",
       "      <td>False</td>\n",
       "    </tr>\n",
       "    <tr>\n",
       "      <th>9</th>\n",
       "      <td>True</td>\n",
       "    </tr>\n",
       "  </tbody>\n",
       "</table>\n",
       "</div>"
      ],
      "text/plain": [
       "     result\n",
       "uid        \n",
       "0      True\n",
       "1     False\n",
       "2     False\n",
       "3      True\n",
       "4      True\n",
       "5     False\n",
       "6     False\n",
       "7     False\n",
       "8     False\n",
       "9      True"
      ]
     },
     "metadata": {},
     "output_type": "display_data"
    }
   ],
   "source": [
    "# Check that results are repeatable\n",
    "ssu.set_seed(0)\n",
    "dfp(np.random.binomial(n=1, p=len(sim.people)*[0.3]))\n",
    "dfp(np.random.choice([True, False], len(sim.people)))"
   ]
  },
  {
   "cell_type": "code",
   "execution_count": 56,
   "id": "db057c24",
   "metadata": {},
   "outputs": [
    {
     "data": {
      "text/plain": [
       "array([1, 2, 3, 4, 5, 6, 7, 8, 9])"
      ]
     },
     "execution_count": 56,
     "metadata": {},
     "output_type": "execute_result"
    }
   ],
   "source": [
    "# Now remove agent with uid=0\n",
    "sim.people.remove(0)\n",
    "sim.people.uid"
   ]
  },
  {
   "cell_type": "code",
   "execution_count": 57,
   "id": "4aa9220c",
   "metadata": {},
   "outputs": [
    {
     "data": {
      "text/html": [
       "<div>\n",
       "<style scoped>\n",
       "    .dataframe tbody tr th:only-of-type {\n",
       "        vertical-align: middle;\n",
       "    }\n",
       "\n",
       "    .dataframe tbody tr th {\n",
       "        vertical-align: top;\n",
       "    }\n",
       "\n",
       "    .dataframe thead th {\n",
       "        text-align: right;\n",
       "    }\n",
       "</style>\n",
       "<table border=\"1\" class=\"dataframe\">\n",
       "  <thead>\n",
       "    <tr style=\"text-align: right;\">\n",
       "      <th></th>\n",
       "      <th>result</th>\n",
       "    </tr>\n",
       "    <tr>\n",
       "      <th>uid</th>\n",
       "      <th></th>\n",
       "    </tr>\n",
       "  </thead>\n",
       "  <tbody>\n",
       "    <tr>\n",
       "      <th>1</th>\n",
       "      <td>0</td>\n",
       "    </tr>\n",
       "    <tr>\n",
       "      <th>2</th>\n",
       "      <td>1</td>\n",
       "    </tr>\n",
       "    <tr>\n",
       "      <th>3</th>\n",
       "      <td>0</td>\n",
       "    </tr>\n",
       "    <tr>\n",
       "      <th>4</th>\n",
       "      <td>0</td>\n",
       "    </tr>\n",
       "    <tr>\n",
       "      <th>5</th>\n",
       "      <td>0</td>\n",
       "    </tr>\n",
       "    <tr>\n",
       "      <th>6</th>\n",
       "      <td>0</td>\n",
       "    </tr>\n",
       "    <tr>\n",
       "      <th>7</th>\n",
       "      <td>0</td>\n",
       "    </tr>\n",
       "    <tr>\n",
       "      <th>8</th>\n",
       "      <td>1</td>\n",
       "    </tr>\n",
       "    <tr>\n",
       "      <th>9</th>\n",
       "      <td>1</td>\n",
       "    </tr>\n",
       "  </tbody>\n",
       "</table>\n",
       "</div>"
      ],
      "text/plain": [
       "     result\n",
       "uid        \n",
       "1         0\n",
       "2         1\n",
       "3         0\n",
       "4         0\n",
       "5         0\n",
       "6         0\n",
       "7         0\n",
       "8         1\n",
       "9         1"
      ]
     },
     "metadata": {},
     "output_type": "display_data"
    },
    {
     "data": {
      "text/html": [
       "<div>\n",
       "<style scoped>\n",
       "    .dataframe tbody tr th:only-of-type {\n",
       "        vertical-align: middle;\n",
       "    }\n",
       "\n",
       "    .dataframe tbody tr th {\n",
       "        vertical-align: top;\n",
       "    }\n",
       "\n",
       "    .dataframe thead th {\n",
       "        text-align: right;\n",
       "    }\n",
       "</style>\n",
       "<table border=\"1\" class=\"dataframe\">\n",
       "  <thead>\n",
       "    <tr style=\"text-align: right;\">\n",
       "      <th></th>\n",
       "      <th>result</th>\n",
       "    </tr>\n",
       "    <tr>\n",
       "      <th>uid</th>\n",
       "      <th></th>\n",
       "    </tr>\n",
       "  </thead>\n",
       "  <tbody>\n",
       "    <tr>\n",
       "      <th>1</th>\n",
       "      <td>True</td>\n",
       "    </tr>\n",
       "    <tr>\n",
       "      <th>2</th>\n",
       "      <td>False</td>\n",
       "    </tr>\n",
       "    <tr>\n",
       "      <th>3</th>\n",
       "      <td>True</td>\n",
       "    </tr>\n",
       "    <tr>\n",
       "      <th>4</th>\n",
       "      <td>False</td>\n",
       "    </tr>\n",
       "    <tr>\n",
       "      <th>5</th>\n",
       "      <td>False</td>\n",
       "    </tr>\n",
       "    <tr>\n",
       "      <th>6</th>\n",
       "      <td>True</td>\n",
       "    </tr>\n",
       "    <tr>\n",
       "      <th>7</th>\n",
       "      <td>True</td>\n",
       "    </tr>\n",
       "    <tr>\n",
       "      <th>8</th>\n",
       "      <td>False</td>\n",
       "    </tr>\n",
       "    <tr>\n",
       "      <th>9</th>\n",
       "      <td>False</td>\n",
       "    </tr>\n",
       "  </tbody>\n",
       "</table>\n",
       "</div>"
      ],
      "text/plain": [
       "     result\n",
       "uid        \n",
       "1      True\n",
       "2     False\n",
       "3      True\n",
       "4     False\n",
       "5     False\n",
       "6      True\n",
       "7      True\n",
       "8     False\n",
       "9     False"
      ]
     },
     "metadata": {},
     "output_type": "display_data"
    }
   ],
   "source": [
    "ssu.set_seed(0)\n",
    "dfp(np.random.binomial(n=1, p=len(sim.people)*[0.3]))\n",
    "dfp(np.random.choice([True, False], len(sim.people)))"
   ]
  },
  {
   "cell_type": "code",
   "execution_count": 58,
   "id": "221ea7c0",
   "metadata": {},
   "outputs": [
    {
     "data": {
      "text/html": [
       "<div>\n",
       "<style scoped>\n",
       "    .dataframe tbody tr th:only-of-type {\n",
       "        vertical-align: middle;\n",
       "    }\n",
       "\n",
       "    .dataframe tbody tr th {\n",
       "        vertical-align: top;\n",
       "    }\n",
       "\n",
       "    .dataframe thead th {\n",
       "        text-align: right;\n",
       "    }\n",
       "</style>\n",
       "<table border=\"1\" class=\"dataframe\">\n",
       "  <thead>\n",
       "    <tr style=\"text-align: right;\">\n",
       "      <th></th>\n",
       "      <th>result</th>\n",
       "    </tr>\n",
       "    <tr>\n",
       "      <th>uid</th>\n",
       "      <th></th>\n",
       "    </tr>\n",
       "  </thead>\n",
       "  <tbody>\n",
       "    <tr>\n",
       "      <th>1</th>\n",
       "      <td>1</td>\n",
       "    </tr>\n",
       "    <tr>\n",
       "      <th>2</th>\n",
       "      <td>0</td>\n",
       "    </tr>\n",
       "    <tr>\n",
       "      <th>3</th>\n",
       "      <td>0</td>\n",
       "    </tr>\n",
       "    <tr>\n",
       "      <th>4</th>\n",
       "      <td>0</td>\n",
       "    </tr>\n",
       "    <tr>\n",
       "      <th>5</th>\n",
       "      <td>0</td>\n",
       "    </tr>\n",
       "    <tr>\n",
       "      <th>6</th>\n",
       "      <td>0</td>\n",
       "    </tr>\n",
       "    <tr>\n",
       "      <th>7</th>\n",
       "      <td>1</td>\n",
       "    </tr>\n",
       "    <tr>\n",
       "      <th>8</th>\n",
       "      <td>1</td>\n",
       "    </tr>\n",
       "    <tr>\n",
       "      <th>9</th>\n",
       "      <td>0</td>\n",
       "    </tr>\n",
       "  </tbody>\n",
       "</table>\n",
       "</div>"
      ],
      "text/plain": [
       "     result\n",
       "uid        \n",
       "1         1\n",
       "2         0\n",
       "3         0\n",
       "4         0\n",
       "5         0\n",
       "6         0\n",
       "7         1\n",
       "8         1\n",
       "9         0"
      ]
     },
     "metadata": {},
     "output_type": "display_data"
    },
    {
     "data": {
      "text/html": [
       "<div>\n",
       "<style scoped>\n",
       "    .dataframe tbody tr th:only-of-type {\n",
       "        vertical-align: middle;\n",
       "    }\n",
       "\n",
       "    .dataframe tbody tr th {\n",
       "        vertical-align: top;\n",
       "    }\n",
       "\n",
       "    .dataframe thead th {\n",
       "        text-align: right;\n",
       "    }\n",
       "</style>\n",
       "<table border=\"1\" class=\"dataframe\">\n",
       "  <thead>\n",
       "    <tr style=\"text-align: right;\">\n",
       "      <th></th>\n",
       "      <th>result</th>\n",
       "    </tr>\n",
       "    <tr>\n",
       "      <th>uid</th>\n",
       "      <th></th>\n",
       "    </tr>\n",
       "  </thead>\n",
       "  <tbody>\n",
       "    <tr>\n",
       "      <th>1</th>\n",
       "      <td>False</td>\n",
       "    </tr>\n",
       "    <tr>\n",
       "      <th>2</th>\n",
       "      <td>False</td>\n",
       "    </tr>\n",
       "    <tr>\n",
       "      <th>3</th>\n",
       "      <td>True</td>\n",
       "    </tr>\n",
       "    <tr>\n",
       "      <th>4</th>\n",
       "      <td>True</td>\n",
       "    </tr>\n",
       "    <tr>\n",
       "      <th>5</th>\n",
       "      <td>False</td>\n",
       "    </tr>\n",
       "    <tr>\n",
       "      <th>6</th>\n",
       "      <td>False</td>\n",
       "    </tr>\n",
       "    <tr>\n",
       "      <th>7</th>\n",
       "      <td>False</td>\n",
       "    </tr>\n",
       "    <tr>\n",
       "      <th>8</th>\n",
       "      <td>False</td>\n",
       "    </tr>\n",
       "    <tr>\n",
       "      <th>9</th>\n",
       "      <td>True</td>\n",
       "    </tr>\n",
       "  </tbody>\n",
       "</table>\n",
       "</div>"
      ],
      "text/plain": [
       "     result\n",
       "uid        \n",
       "1     False\n",
       "2     False\n",
       "3      True\n",
       "4      True\n",
       "5     False\n",
       "6     False\n",
       "7     False\n",
       "8     False\n",
       "9      True"
      ]
     },
     "metadata": {},
     "output_type": "display_data"
    }
   ],
   "source": [
    "# Now try sampling for all uids and keeping only uids in the current view\n",
    "ssu.set_seed(0)\n",
    "dfp(np.random.binomial(n=1, p=len(sim.people._uid_map)*[0.3])[sim.people.uid])\n",
    "dfp(np.random.choice([True, False], len(sim.people._uid_map))[sim.people.uid])\n",
    "\n",
    "# ^^^ WORKS! (These are independent draws per-individual)"
   ]
  },
  {
   "cell_type": "markdown",
   "id": "773d934f",
   "metadata": {},
   "source": [
    "Now working through utils towards integration"
   ]
  },
  {
   "cell_type": "code",
   "execution_count": 59,
   "id": "25892203",
   "metadata": {},
   "outputs": [
    {
     "data": {
      "text/plain": [
       "array([10.48431215, 10.57914048,  9.81841743, 11.41020463,  9.62552831,\n",
       "       10.27519832,  9.03924539, 10.37692697, 10.03343893])"
      ]
     },
     "execution_count": 59,
     "metadata": {},
     "output_type": "execute_result"
    }
   ],
   "source": [
    "ssu.sample(dist='normal', par1=10, par2=1, size=len(sim.people))"
   ]
  },
  {
   "cell_type": "code",
   "execution_count": 60,
   "id": "a24b7dde",
   "metadata": {},
   "outputs": [
    {
     "data": {
      "text/plain": [
       "array([7, 6])"
      ]
     },
     "execution_count": 60,
     "metadata": {},
     "output_type": "execute_result"
    }
   ],
   "source": [
    "ssu.set_seed(0)\n",
    "# Choice (potentially) adds correlation across the entire population\n",
    "# The following is fine, because the draws are independent per agent\n",
    "np.random.choice([True, False], size=5)\n",
    "\n",
    "# But choosing k of n agents is a centralized thing, right?\n",
    "# Internally, this must use just two random numbers, not one per agent\n",
    "np.random.choice(sim.people.uid, 2, replace=False)\n",
    "\n",
    "# Centralized choices in the model:\n",
    "# * Choosing k initial cases (could be a prob per agent instead?)\n",
    "# * Choosing k agents to start/stop ART\n",
    "# ~~~ Very few! Just need to encourage programming away from this pattern."
   ]
  },
  {
   "cell_type": "markdown",
   "id": "7d20df90",
   "metadata": {},
   "source": [
    "# Play with random number streams"
   ]
  },
  {
   "cell_type": "code",
   "execution_count": 61,
   "id": "55e763ab",
   "metadata": {},
   "outputs": [
    {
     "data": {
      "text/plain": [
       "array([0.63696169, 0.26978671, 0.04097352, 0.01652764, 0.81327024])"
      ]
     },
     "metadata": {},
     "output_type": "display_data"
    },
    {
     "data": {
      "text/plain": [
       "array([0.51182162, 0.9504637 , 0.14415961, 0.94864945, 0.31183145])"
      ]
     },
     "metadata": {},
     "output_type": "display_data"
    },
    {
     "name": "stdout",
     "output_type": "stream",
     "text": [
      "0.6369616873214543\n",
      "0.2697867137638703\n",
      "0.04097352393619469\n",
      "0.016527635528529094\n",
      "0.8132702392002724\n",
      "\n",
      "0.5118216247002567\n",
      "0.9504636963259353\n",
      "0.14415961271963373\n",
      "0.9486494471372439\n",
      "0.31183145201048545\n",
      "\n",
      "0.6369616873214543\n",
      "0.5118216247002567\n",
      "\n",
      "0.2697867137638703\n",
      "0.9504636963259353\n",
      "\n",
      "0.04097352393619469\n",
      "0.14415961271963373\n",
      "\n",
      "0.016527635528529094\n",
      "0.9486494471372439\n",
      "\n",
      "0.8132702392002724\n",
      "0.31183145201048545\n"
     ]
    }
   ],
   "source": [
    "r1 = np.random.default_rng(seed=0)\n",
    "display(r1.random(5))\n",
    "\n",
    "r2 = np.random.default_rng(seed=1)\n",
    "display(r2.random(5))\n",
    "\n",
    "r1 = np.random.default_rng(seed=0)\n",
    "r2 = np.random.default_rng(seed=1)\n",
    "for i in range(5):\n",
    "    print(r1.random())\n",
    "print()\n",
    "for i in range(5):\n",
    "    print(r2.random())\n",
    "\n",
    "r1 = np.random.default_rng(seed=0)\n",
    "r2 = np.random.default_rng(seed=1)\n",
    "for i in range(5):\n",
    "    print()\n",
    "    print(r1.random())\n",
    "    print(r2.random())\n",
    "\n",
    "# So! Multiple random number streams are easy and work as expected."
   ]
  },
  {
   "cell_type": "code",
   "execution_count": 125,
   "id": "a59dc80c",
   "metadata": {},
   "outputs": [
    {
     "data": {
      "text/plain": [
       "Generator(PCG64) at 0x17E474740"
      ]
     },
     "execution_count": 125,
     "metadata": {},
     "output_type": "execute_result"
    }
   ],
   "source": [
    "r1"
   ]
  },
  {
   "cell_type": "markdown",
   "id": "51a1d9ae",
   "metadata": {},
   "source": [
    "# Let's do some performance evaluation"
   ]
  },
  {
   "cell_type": "code",
   "execution_count": 83,
   "id": "2df72fc7",
   "metadata": {},
   "outputs": [
    {
     "name": "stdout",
     "output_type": "stream",
     "text": [
      "Draw k: 0.316 ms\n",
      "Draw n, keep k: 43.8 ms\n"
     ]
    }
   ],
   "source": [
    "# k=1 person in a population of n=100000 get infected. What difference does it make if we draw k vs n?\n",
    "r1 = np.random.default_rng(seed=0)\n",
    "\n",
    "k = 100\n",
    "n = 100_000\n",
    "trials = 100\n",
    "import sciris as sc\n",
    "\n",
    "t = sc.timer('Draw k')\n",
    "for i in range(trials):\n",
    "    v = r1.random(size=k)\n",
    "t.toc()\n",
    "\n",
    "t = sc.timer('Draw n, keep k')\n",
    "for i in range(trials):\n",
    "    v = r1.random(size=n)[:k]\n",
    "t.toc()\n",
    "\n",
    "# UGH, much slower, but still doesn't take all that much time compared to other calculations\n",
    "# Sample things like prognosis (once) for each agent at creation...\n",
    "# Okay for S->I... except not: in HIV, prognosis depends on age and possibly other factors\n",
    "# Plus pure burn if nobody infected on a given step"
   ]
  },
  {
   "cell_type": "code",
   "execution_count": 121,
   "id": "14ecb71a",
   "metadata": {},
   "outputs": [
    {
     "name": "stdout",
     "output_type": "stream",
     "text": [
      "Draw k from separate streams [list comprehension]: 0.460 s\n",
      "Draw k from separate streams [map]: 44.1 ms\n"
     ]
    }
   ],
   "source": [
    "# What about separate generators per-agent?\n",
    "\n",
    "r = [np.random.default_rng(seed=s) for s in range(n)]\n",
    "t = sc.timer('Draw k from separate streams [list comprehension]')\n",
    "for i in range(trials):\n",
    "    v = [z.choice([True, False]) for i,z in enumerate(r) if i < k]\n",
    "t.toc()\n",
    "\n",
    "r = [np.random.default_rng(seed=s) for s in range(n)]\n",
    "t = sc.timer('Draw k from separate streams [map]')\n",
    "for i in range(trials):\n",
    "    #v = list(map(lambda x: x.random(), r[:k]))\n",
    "    v = list(map(lambda x: x.choice([True, False]), r[:k]))\n",
    "t.toc()\n",
    "\n",
    "# Map is much faster!"
   ]
  },
  {
   "cell_type": "markdown",
   "id": "1ad30476",
   "metadata": {},
   "source": [
    "# Binomial filtering"
   ]
  },
  {
   "cell_type": "code",
   "execution_count": 106,
   "id": "008f9dac",
   "metadata": {},
   "outputs": [
    {
     "data": {
      "text/plain": [
       "array([1, 8])"
      ]
     },
     "metadata": {},
     "output_type": "display_data"
    },
    {
     "data": {
      "text/plain": [
       "array([1, 8])"
      ]
     },
     "metadata": {},
     "output_type": "display_data"
    }
   ],
   "source": [
    "denom_conds = sim.people.female\n",
    "uids_to_choose_from = ss.true(denom_conds)\n",
    "\n",
    "ssu.set_seed(0)\n",
    "# Uses len(arr) random numbers:\n",
    "u1 = ss.bernoulli_filter(0.7, uids_to_choose_from) # return arr[(np.random.random(len(arr)) < prob).nonzero()[0]]\n",
    "display(u1)\n",
    "\n",
    "r1 = np.random.default_rng(seed=0)\n",
    "def bernoulli_filter(prob, arr):\n",
    "    # Uses len(uid map) random numbers\n",
    "    return arr[(r1.random(len(sim.people._uid_map)) < prob)[arr].nonzero()[0]]\n",
    "\n",
    "u2 = bernoulli_filter(0.7, uids_to_choose_from)\n",
    "display(u2)"
   ]
  },
  {
   "cell_type": "markdown",
   "id": "41813fbb",
   "metadata": {},
   "source": [
    "## Point is greater comparability between two simulations.\n",
    "\n",
    "Can imagine all this working until the point at which the uid map grows in one simulation (baseline) but not another (intervention). Resetting the seed each timestep helps, if/when the (intervention) sim gets a similar uid growth. Oh but this is assuming the uids grow in big chunks. Probably need to be drawing enough random numbers for each decision to cover all (live) agents in a consistent manner.\n",
    "\n",
    "Need to draw not len(uid map) but rather len(people ever in simulation)\n",
    "\n",
    "NEED: equivalent of one stream per agent-decision-timestep\n",
    "\n",
    "Above concept uses \"slots\" where a agent-decision indexes into a block of rngs per timestep. Problem is that blocksize is tied to population size, which will cause offsets between simulations even with per-step seed resetting.\n",
    "\n",
    "* Fixed block size is possible, but inefficient.\n",
    "* Can't use current population size because sub-blocks are selected from one RNG sequentially\n",
    "* [ --SUBBLOCK_1-- ][ --SUBBLOCK_2-- ]...[ --SUBBLOCK_N-- ]\n",
    "* If length of subblock (e.g. number of uids) grows, then start of next subblock is off\n",
    "* --> Use different rngs for each SUBBLOCK, or fix seed at beginning of each SUBBLOCK?!\n",
    "* --> Still need to draw full uid size and sample within so that decisions correctly map to agents\n",
    "* --> Is RNG resetting fast?\n",
    "\n",
    "* At some point, per-agent RNG streams with slots per decision-timestep becomes more efficient"
   ]
  },
  {
   "cell_type": "code",
   "execution_count": 119,
   "id": "277323c3",
   "metadata": {},
   "outputs": [
    {
     "name": "stdout",
     "output_type": "stream",
     "text": [
      "set_seed: 0.175 s\n"
     ]
    }
   ],
   "source": [
    "t = sc.timer('set_seed')\n",
    "for i in range(100_000):\n",
    "    ssu.set_seed(i)\n",
    "t.toc()\n",
    "# Seems plenty fast"
   ]
  },
  {
   "cell_type": "markdown",
   "id": "114c06aa",
   "metadata": {},
   "source": [
    "grow() happens early in a timestep, so\n",
    "* TIME0 with pop N0-->N1: [seed 0, draw N0][seed 1, draw N0]...[seed d, draw N0][seed d+1, draw N1][seed d+2, draw N1]...[seed D, draw N1]\n",
    "* Same for time 1 with seeds offset by a fixed amount more than D\n",
    "* Works because the len of the uid_map (N0, N1, ...) only grows as new agents are added at the end of the population arrays\n",
    "* Long running simulations, at the end, will still be drawing numbers for long-since-dead/removed agents - inefficient, but fixed problem of needing to know the final total number of agents\n",
    "\n",
    "What if timestep flow conditionally adds or removes a decision?\n",
    "* Each decision could have a unique offset instead of going sequentially\n",
    "* Offset per-timestep would be max of unique within-timestep offsets\n",
    "\n",
    "Use case is comparing two simulations with different networks, A vs B. The networks will use random numbers in forming partners, and each can have their own offset so that decisions that come later in the flow would not be affected by the network's use of random numbers. There WOULD be differences due to the different pairs created, however.\n",
    "* If edge 1-2 exists in both A and B, being consistent about transmission on this edge between sims would be tricky.\n",
    "* Could sample transmission from approx N^2 (per layer?!) (N*(N-1)/2 if heterosexual) and select down to k active edges...\n",
    "* Do network layers get \"flattened\" before transmission?\n",
    "* If transmission is not consistent... what's the point\n",
    "* Any deviation in the network throws everything off?\n",
    "\n",
    "* Confirmed uses length(edges) random numbers for p1-->p2 and again length(edges) for p2-->p1\n",
    "\n",
    "* OR!!! Reset seed on a per-edge basis in some clever way? That would require one call per edge instead of a length(edges) vectorized call.\n",
    "* Make an RNG per-edge for transmission related inquiries, seeded based on node properties?\n",
    "\n",
    "Switch to node-based view?\n",
    "* Node i connected to k other nodes\n",
    "* k chances to get infected on this step\n",
    "* Combine probability of infection to a single RNG draw\n",
    "* Use one slot per agent\n",
    "* Do I get infected on this timestep?\n",
    "* If yes, need to determine from whom - sample 1 of k proportional to prob, roulette --> or keep list of possible sources and tree later?\n",
    "* NOTE also for each pathogen - so part of module"
   ]
  },
  {
   "cell_type": "code",
   "execution_count": 110,
   "id": "7dcaf6e1",
   "metadata": {},
   "outputs": [
    {
     "name": "stdout",
     "output_type": "stream",
     "text": [
      "9\n",
      "10\n"
     ]
    }
   ],
   "source": [
    "print(len(sim.people))\n",
    "print(len(sim.people._uid_map))"
   ]
  },
  {
   "cell_type": "code",
   "execution_count": 111,
   "id": "6d88258a",
   "metadata": {},
   "outputs": [
    {
     "data": {
      "text/plain": [
       "array([10, 11, 12])"
      ]
     },
     "execution_count": 111,
     "metadata": {},
     "output_type": "execute_result"
    }
   ],
   "source": [
    "sim.people.grow(3)"
   ]
  },
  {
   "cell_type": "code",
   "execution_count": 118,
   "id": "c59846b6",
   "metadata": {},
   "outputs": [
    {
     "name": "stdout",
     "output_type": "stream",
     "text": [
      "12\n",
      "13\n",
      "array([9223372036854775807,                   0,                   1,\n",
      "                         2,                   3,                   4,\n",
      "                         5,                   6,                   7,\n",
      "                         8,                   9,                  10,\n",
      "                        11])\n"
     ]
    }
   ],
   "source": [
    "print(len(sim.people))\n",
    "print(len(sim.people._uid_map))\n",
    "print(sim.people._uid_map)"
   ]
  },
  {
   "cell_type": "code",
   "execution_count": null,
   "id": "7d3bd037",
   "metadata": {},
   "outputs": [],
   "source": []
  }
 ],
 "metadata": {
  "kernelspec": {
   "display_name": "IDM",
   "language": "python",
   "name": "python3"
  },
  "language_info": {
   "codemirror_mode": {
    "name": "ipython",
    "version": 3
   },
   "file_extension": ".py",
   "mimetype": "text/x-python",
   "name": "python",
   "nbconvert_exporter": "python",
   "pygments_lexer": "ipython3",
   "version": "3.10.12"
  },
  "toc": {
   "base_numbering": 1,
   "nav_menu": {},
   "number_sections": true,
   "sideBar": true,
   "skip_h1_title": false,
   "title_cell": "Table of Contents",
   "title_sidebar": "Contents",
   "toc_cell": false,
   "toc_position": {
    "height": "calc(100% - 180px)",
    "left": "10px",
    "top": "150px",
    "width": "328.6px"
   },
   "toc_section_display": true,
   "toc_window_display": true
  }
 },
 "nbformat": 4,
 "nbformat_minor": 5
}
